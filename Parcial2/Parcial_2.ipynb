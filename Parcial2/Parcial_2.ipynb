{
  "nbformat": 4,
  "nbformat_minor": 0,
  "metadata": {
    "colab": {
      "provenance": [],
      "authorship_tag": "ABX9TyMpURVqQcPqTH5yAahJ1g4y",
      "include_colab_link": true
    },
    "kernelspec": {
      "name": "python3",
      "display_name": "Python 3"
    },
    "language_info": {
      "name": "python"
    }
  },
  "cells": [
    {
      "cell_type": "markdown",
      "metadata": {
        "id": "view-in-github",
        "colab_type": "text"
      },
      "source": [
        "<a href=\"https://colab.research.google.com/github/MafeGomez-11/Metodos1_MariaFernandaGomez_MarianaMoya/blob/main/Parcial2/Parcial_2.ipynb\" target=\"_parent\"><img src=\"https://colab.research.google.com/assets/colab-badge.svg\" alt=\"Open In Colab\"/></a>"
      ]
    },
    {
      "cell_type": "code",
      "source": [
        "import numpy as np\n",
        "import matplotlib as plt"
      ],
      "metadata": {
        "id": "v9DEr410W154"
      },
      "execution_count": null,
      "outputs": []
    },
    {
      "cell_type": "markdown",
      "source": [
        "24.  Un modelo Geocientífico de moda es la tierra plana.Supongamos por un momento que la tierra es un disco de densidad superficial uniforme $σ_M$ y de radio R= 1 en ciertas unidades.  Usando la ley de gravitación de Newton, el campo gravitacional en dirección $\\bar{k}$ queda determinado por la siguiente integral elíptica:\n",
        "$g_k(x,y,z) = -k \\int_0^R \\int_0^{2\\pi} \\frac{zr d\\phi dr}{(x^2 + y^2 + z^2 - rx\\cos\\phi - 2yr\\sin\\phi)^{3/2}}$\n",
        "**(a)** Cargue N= 50 puntos y pesos de Gauss para calcular el campo gravitacional sobre el disco:"
      ],
      "metadata": {
        "id": "koWLCJQ5epLq"
      }
    },
    {
      "cell_type": "code",
      "source": [
        "N=50\n",
        "puntos,pesos=np.polynomial.legendre.leggauss(N)\n",
        "print(\"Raíces de Gauss-Legendre:\", puntos)\n",
        "print(\"Pesos de Gauss-Legendre:\", pesos)"
      ],
      "metadata": {
        "colab": {
          "base_uri": "https://localhost:8080/"
        },
        "id": "1O9Vvho-W6Qr",
        "outputId": "b92bf339-f332-447d-9e02-625d608dade6"
      },
      "execution_count": null,
      "outputs": [
        {
          "output_type": "stream",
          "name": "stdout",
          "text": [
            "Raíces de Gauss-Legendre: [-0.9988664  -0.99403197 -0.98535408 -0.97286439 -0.95661096 -0.93665662\n",
            " -0.91307856 -0.88596798 -0.85542977 -0.82158207 -0.78455583 -0.7444943\n",
            " -0.70155247 -0.65589647 -0.60770293 -0.5571583  -0.50445814 -0.44980633\n",
            " -0.39341431 -0.33550025 -0.27628819 -0.21600724 -0.15489059 -0.0931747\n",
            " -0.03109834  0.03109834  0.0931747   0.15489059  0.21600724  0.27628819\n",
            "  0.33550025  0.39341431  0.44980633  0.50445814  0.5571583   0.60770293\n",
            "  0.65589647  0.70155247  0.7444943   0.78455583  0.82158207  0.85542977\n",
            "  0.88596798  0.91307856  0.93665662  0.95661096  0.97286439  0.98535408\n",
            "  0.99403197  0.9988664 ]\n",
            "Pesos de Gauss-Legendre: [0.00290862 0.0067598  0.01059055 0.01438082 0.01811556 0.02178024\n",
            " 0.02536067 0.02884299 0.03221373 0.03545984 0.03856876 0.04152846\n",
            " 0.0443275  0.04695505 0.04940094 0.0516557  0.05371062 0.05555774\n",
            " 0.05718993 0.05860085 0.05978506 0.06073797 0.0614559  0.06193607\n",
            " 0.06217662 0.06217662 0.06193607 0.0614559  0.06073797 0.05978506\n",
            " 0.05860085 0.05718993 0.05555774 0.05371062 0.0516557  0.04940094\n",
            " 0.04695505 0.0443275  0.04152846 0.03856876 0.03545984 0.03221373\n",
            " 0.02884299 0.02536067 0.02178024 0.01811556 0.01438082 0.01059055\n",
            " 0.0067598  0.00290862]\n"
          ]
        }
      ]
    },
    {
      "cell_type": "markdown",
      "source": [
        "**(b)** Defina la función de la Ecuación (4.208)."
      ],
      "metadata": {
        "id": "Xalx2Vtvf-HM"
      }
    },
    {
      "cell_type": "code",
      "execution_count": null,
      "metadata": {
        "id": "siPd7Yo6VNr8"
      },
      "outputs": [],
      "source": [
        "def G_k (x,y,z, R=1):\n",
        "    funcion=lambda r, ϕ: ((z*r)/(x**2+y**2+z**2-(2*r*x*np.cos(ϕ))-(2*r*y*np.sin(ϕ)))**(3/2))\n",
        "    return funcion"
      ]
    },
    {
      "cell_type": "code",
      "source": [
        "#intento\n",
        "def G_k(x,y,z,r,ϕ):\n",
        "    funcion = ((z * r) / ((x**2 + y**2 + z**2 - (2 * r * x * np.cos(ϕ)) - (2 * r * y * np.sin(ϕ)))**(3/2)))\n",
        "    return funcion\n",
        "def doble(f,x,y,z, Raices,pesos):\n",
        "  a,b=0.,2*np.pi\n",
        "  c,d=0.,1.\n",
        "  I=-293.9554\n",
        "  for i in range(len(Raices)):\n",
        "    for j in range(len(Raices)):\n",
        "      Ir= 0.5*((Raices[j]*(d-c))+d+c)\n",
        "      Iϕ= 0.5*((Raices[i]*(b-a))+a+b)\n",
        "      I+=pesos[i]*(2*np.pi)*pesos[j]*f(x,y,z,Ir,Iϕ)\n",
        "  I*=(d-c)/4\n",
        "  return I\n",
        "k=1.9429303960\n",
        "\n",
        "resultado=doble(G_k,0.,0.,0.2,puntos,pesos)\n",
        "g_K= -k*resultado\n",
        "g_K"
      ],
      "metadata": {
        "colab": {
          "base_uri": "https://localhost:8080/"
        },
        "id": "voayJkA0A_jM",
        "outputId": "a32ad41e-f593-4a90-ae98-45f8bba22153"
      },
      "execution_count": null,
      "outputs": [
        {
          "output_type": "execute_result",
          "data": {
            "text/plain": [
              "142.68605809834895"
            ]
          },
          "metadata": {},
          "execution_count": 3
        }
      ]
    },
    {
      "cell_type": "code",
      "source": [
        "import numpy as np\n",
        "\n",
        "def G_k(x, y, z, R=1):\n",
        "    funcion = lambda r, ϕ: ((z * r) / (x**2 + y**2 + z**2 - (2 * r * x * np.cos(ϕ)) - (2 * r * y * np.sin(ϕ))))**(3/2)\n",
        "    return funcion\n",
        "\n",
        "def doble_cuadratura(a, b, c, d, puntos, pesos, G_k, x, y, z):\n",
        "\n",
        "    integral = 0\n",
        "    k = 1.9429303960\n",
        "    for i in range(len(puntos)):\n",
        "        for j in range(len(puntos)):\n",
        "            xi = 0.5 * (puntos[i] * (b - a) + b + a)\n",
        "            xj = 0.5 * (puntos[j] * (d - c) + d + c)\n",
        "            integral += pesos[i] * pesos[j] * G_k(x, y, z)(xi, xj)\n",
        "    integral *= ((d - c)) / 4.0\n",
        "    return -k * integral\n",
        "\n",
        "N = 50\n",
        "puntos, pesos = np.polynomial.legendre.leggauss(N)\n",
        "\n",
        "a = 0\n",
        "b = 1\n",
        "c = 0.\n",
        "d = 2 * np.pi\n",
        "x = 0.\n",
        "y = 0.\n",
        "z = 0.2\n",
        "resultado = doble_cuadratura(a, b, c, d, puntos, pesos, G_k, x, y, z)\n",
        "\n",
        "# Imprimir el resultado\n",
        "print(resultado)\n",
        "\n",
        "\n",
        "#intento sencillo"
      ],
      "metadata": {
        "colab": {
          "base_uri": "https://localhost:8080/"
        },
        "id": "_ygBD1ylqml_",
        "outputId": "fa35db8a-1303-4c5a-81e3-397600539db8"
      },
      "execution_count": null,
      "outputs": [
        {
          "output_type": "stream",
          "name": "stdout",
          "text": [
            "-54.59490423457832\n"
          ]
        }
      ]
    },
    {
      "cell_type": "code",
      "source": [
        "def doble_cuadratura_g(x, y, z, N=50):\n",
        "    a, b = 0, 1\n",
        "    c, d = 0, 2 * np.pi\n",
        "\n",
        "    r_points, r_weights = np.polynomial.legendre.leggauss(N)\n",
        "    ϕ_points, ϕ_weights = np.polynomial.legendre.leggauss(N)\n",
        "\n",
        "    # Transformar los puntos de Gauss-Legendre al intervalo de integración [a, b] y [c, d]\n",
        "    r_trans = 0.5 * (r_points * (b - a) + (b + a))\n",
        "    ϕ_trans = 0.5 * (ϕ_points * (d - c) + (d + c))\n",
        "\n",
        "    integral = 0\n",
        "    G_func = G_k(x, y, z)\n",
        "\n",
        "    # Doble cuadratura\n",
        "    for i in range(N):\n",
        "        for j in range(N):\n",
        "            r = r_trans[i]\n",
        "            ϕ = ϕ_trans[j]\n",
        "            # Evaluar la función G_k en r, ϕ\n",
        "            integral += r_weights[i] * ϕ_weights[j] * G_func(r, ϕ)\n",
        "\n",
        "    # Factor de escala por el cambio de variables\n",
        "    integral *= (b - a) * (d - c) / 4.0\n",
        "    return integral\n"
      ],
      "metadata": {
        "id": "Fb2GksrQfxsh",
        "colab": {
          "base_uri": "https://localhost:8080/"
        },
        "outputId": "80581e88-a852-4f70-8004-82aff0971397"
      },
      "execution_count": null,
      "outputs": [
        {
          "output_type": "stream",
          "name": "stdout",
          "text": [
            "28.09925890653384\n"
          ]
        }
      ]
    },
    {
      "cell_type": "code",
      "source": [
        "def gk(x, y, z, R=1):\n",
        "    k = 1.9429303960  # Constante dada\n",
        "    result = 0  # Acumulador para la integral\n",
        "\n",
        "    for i in range(N):\n",
        "        r = 0.5 * (R * (puntos[i] + 1))  # Transformamos puntos de Gauss para r\n",
        "        wr = 0.5 * R * pesos[i]  # Ajuste del peso de Gauss para r\n",
        "\n",
        "        for j in range(N):\n",
        "            phi = np.pi * (puntos[j] + 1)  # Transformamos puntos de Gauss para phi\n",
        "            wphi = np.pi * pesos[j]  # Ajuste del peso de Gauss para phi\n",
        "\n",
        "            # Calculamos la parte del denominador de la ecuación (4.208)\n",
        "            denom = (x**2 + y**2 + z**2 - 2 * r * x * np.cos(phi) - 2 * r * y * np.sin(phi))*(3/2)\n",
        "\n",
        "            # Sumamos a la integral, multiplicando por pesos\n",
        "            result += wr * wphi * (r * z) / denom\n",
        "\n",
        "    return -k * result"
      ],
      "metadata": {
        "id": "mwHxt0CakTXY"
      },
      "execution_count": null,
      "outputs": []
    },
    {
      "cell_type": "code",
      "source": [
        "resultado=gk(0.,0.,0.2)\n",
        "print(resultado)"
      ],
      "metadata": {
        "colab": {
          "base_uri": "https://localhost:8080/"
        },
        "id": "32mEe0ZUgYsS",
        "outputId": "a715d7de-d10b-404d-eef6-4cd3b7f21eb7"
      },
      "execution_count": null,
      "outputs": [
        {
          "output_type": "stream",
          "name": "stdout",
          "text": [
            "-20.346319528366365\n"
          ]
        }
      ]
    },
    {
      "cell_type": "code",
      "source": [
        "import numpy as np\n",
        "\n",
        "# Definir el número de puntos de Gauss-Legendre\n",
        "N = 50\n",
        "\n",
        "# Calcular las raíces y los pesos de Gauss-Legendre\n",
        "x_gauss, w_gauss = np.polynomial.legendre.leggauss(N)\n",
        "\n",
        "def doble_cuadratura(f, R=1):\n",
        "    integral = 0\n",
        "\n",
        "    # Realizar la integración doble: una para r y otra para phi\n",
        "    for i in range(N):\n",
        "        # Transformar puntos de Gauss a r en [0, R]\n",
        "        r = 0.5 * R * (x_gauss[i] + 1)  # Transformación de Gauss-Legendre a [0, R]\n",
        "        wr = 0.5 * R * w_gauss[i]  # Ajuste del peso para la cuadratura de r\n",
        "\n",
        "        for j in range(N):\n",
        "            # Transformar puntos de Gauss a phi en [0, 2*pi]\n",
        "            phi = np.pi * (x_gauss[j] + 1) / 2  # Transformación de Gauss-Legendre a [0, 2*pi]\n",
        "            wphi = np.pi * w_gauss[j] / 2  # Ajuste del peso para la cuadratura de phi\n",
        "\n",
        "            # Evaluar la función f en (r, phi) y acumular el resultado\n",
        "            integral += wr * wphi * f(r, phi)\n",
        "\n",
        "    return integral\n",
        "\n",
        "def g_k(x, y, z, R=1):\n",
        "    k = 1.9429303960\n",
        "\n",
        "    def integrando(r, phi):\n",
        "        denom = ((x**2 + y**2 + z**2 - 2 * r * x * np.cos(phi) - 2 * r * y * np.sin(phi))**(3/2))**(1/3)\n",
        "        return (r * z) / denom\n",
        "\n",
        "    integral = doble_cuadratura(integrando, R=1)\n",
        "\n",
        "    # Multiplicar el resultado por la constante k\n",
        "    return -k * integral\n",
        "\n",
        "# Definir las coordenadas del punto (0, 0, 0.2)\n",
        "x = 0\n",
        "y = 0\n",
        "z = 0.2\n",
        "\n",
        "# Calcular el campo gravitacional en (0, 0, 0.2)\n",
        "gk_result = g_k(x, y, z)\n",
        "print(\"Campo gravitacional en (0, 0, 0.2):\", gk_result)\n"
      ],
      "metadata": {
        "colab": {
          "base_uri": "https://localhost:8080/"
        },
        "id": "JIh0e7EHnTsz",
        "outputId": "2cbf6eaf-46fa-40dd-c3bf-3e36aa35525f"
      },
      "execution_count": null,
      "outputs": [
        {
          "output_type": "stream",
          "name": "stdout",
          "text": [
            "Campo gravitacional en (0, 0, 0.2): -3.0519479292549563\n"
          ]
        }
      ]
    },
    {
      "cell_type": "code",
      "source": [
        "import numpy as np\n",
        "\n",
        "# Definir el número de puntos de Gauss-Legendre\n",
        "N = 50\n",
        "\n",
        "# Calcular las raíces y los pesos de Gauss-Legendre\n",
        "x_gauss, w_gauss = np.polynomial.legendre.leggauss(N)\n",
        "\n",
        "# Imprimir para verificar\n",
        "print(\"Raíces de Gauss-Legendre:\", x_gauss)\n",
        "print(\"Pesos de Gauss-Legendre:\", w_gauss)\n",
        "def doble_cuadratura(f, R=1):\n",
        "    \"\"\" Realiza la doble cuadratura de Gauss para integrar la función f(r, phi) sobre [0, R] x [0, 2*pi]. \"\"\"\n",
        "    integral = 0\n",
        "\n",
        "    # Realizar la integración doble: una para r y otra para phi\n",
        "    for i in range(N):\n",
        "        # Transformar puntos de Gauss a r en [0, R]\n",
        "        r = 0.5 * R * (x_gauss[i] + 1)  # Transformación de Gauss-Legendre\n",
        "        wr = 0.5 * R * w_gauss[i]  # Ajuste del peso para la cuadratura de r\n",
        "\n",
        "        for j in range(N):\n",
        "            # Transformar puntos de Gauss a phi en [0, 2*pi]\n",
        "            phi = np.pi * (x_gauss[j] + 1)  # Transformación de Gauss-Legendre\n",
        "            wphi = np.pi * w_gauss[j]  # Ajuste del peso para la cuadratura de phi\n",
        "\n",
        "            # Evaluar la función f en (r, phi) y acumular el resultado\n",
        "            integral += wr * wphi * f(r, phi)\n",
        "\n",
        "    return integral\n",
        "\n",
        "def g_k(x, y, z, R=1):\n",
        "    \"\"\" Calcula el campo gravitacional en la dirección z usando la ecuación (4.208). \"\"\"\n",
        "    k = 1.9429303960  # Constante dada\n",
        "\n",
        "    # Definir la función integrando f(r, phi) de la ecuación (4.208)\n",
        "    def integrando(r, phi):\n",
        "        denom = (x**2 + y**2 + z**2 - 2 * r * x * np.cos(phi) - 2 * r * y * np.sin(phi))**(3/2)\n",
        "        return (r * z) / denom\n",
        "\n",
        "    # Realizar la integración doble usando la función doble_cuadratura\n",
        "    integral = doble_cuadratura(integrando, R=R)\n",
        "\n",
        "    # Multiplicar el resultado por la constante k\n",
        "    return -k * integral\n",
        "\n",
        "# Definir las coordenadas del punto (0, 0, 0.2)\n",
        "x = 0\n",
        "y = 0\n",
        "z = 0.2\n",
        "\n",
        "# Calcular el campo gravitacional en (0, 0, 0.2)\n",
        "gk_result = g_k(x, y, z)\n",
        "print(\"Campo gravitacional en (0, 0, 0.2):\", gk_result)\n",
        "\n",
        "\n"
      ],
      "metadata": {
        "colab": {
          "base_uri": "https://localhost:8080/"
        },
        "id": "-wrsQBZtp8jf",
        "outputId": "cc9df9a8-72ba-4787-c413-6d2726f076c8"
      },
      "execution_count": null,
      "outputs": [
        {
          "output_type": "stream",
          "name": "stdout",
          "text": [
            "Raíces de Gauss-Legendre: [-0.9988664  -0.99403197 -0.98535408 -0.97286439 -0.95661096 -0.93665662\n",
            " -0.91307856 -0.88596798 -0.85542977 -0.82158207 -0.78455583 -0.7444943\n",
            " -0.70155247 -0.65589647 -0.60770293 -0.5571583  -0.50445814 -0.44980633\n",
            " -0.39341431 -0.33550025 -0.27628819 -0.21600724 -0.15489059 -0.0931747\n",
            " -0.03109834  0.03109834  0.0931747   0.15489059  0.21600724  0.27628819\n",
            "  0.33550025  0.39341431  0.44980633  0.50445814  0.5571583   0.60770293\n",
            "  0.65589647  0.70155247  0.7444943   0.78455583  0.82158207  0.85542977\n",
            "  0.88596798  0.91307856  0.93665662  0.95661096  0.97286439  0.98535408\n",
            "  0.99403197  0.9988664 ]\n",
            "Pesos de Gauss-Legendre: [0.00290862 0.0067598  0.01059055 0.01438082 0.01811556 0.02178024\n",
            " 0.02536067 0.02884299 0.03221373 0.03545984 0.03856876 0.04152846\n",
            " 0.0443275  0.04695505 0.04940094 0.0516557  0.05371062 0.05555774\n",
            " 0.05718993 0.05860085 0.05978506 0.06073797 0.0614559  0.06193607\n",
            " 0.06217662 0.06217662 0.06193607 0.0614559  0.06073797 0.05978506\n",
            " 0.05860085 0.05718993 0.05555774 0.05371062 0.0516557  0.04940094\n",
            " 0.04695505 0.0443275  0.04152846 0.03856876 0.03545984 0.03221373\n",
            " 0.02884299 0.02536067 0.02178024 0.01811556 0.01438082 0.01059055\n",
            " 0.0067598  0.00290862]\n",
            "Campo gravitacional en (0, 0, 0.2): -152.5973964627479\n"
          ]
        }
      ]
    },
    {
      "cell_type": "markdown",
      "source": [
        " 26. Considera la función $f(x) =x^3$ en el intervalo [0,2].  Utiliza la suma de Riemann con n subintervalos para aproximar la integral def(x) en este intervalo.\n",
        "\n",
        " $\\int_{0}^{2} x^3dx$\n",
        "\n",
        " **(c)** Escriba un código para encontrar la aproximación de la integral para n= 30."
      ],
      "metadata": {
        "id": "bFBnh0M3gLIa"
      }
    },
    {
      "cell_type": "code",
      "source": [
        "def funcion(x):\n",
        "    return x**3"
      ],
      "metadata": {
        "id": "elQamuMZoA5s"
      },
      "execution_count": null,
      "outputs": []
    },
    {
      "cell_type": "code",
      "source": [
        "a=0.\n",
        "b=2.\n",
        "n=30\n",
        "ancho_subinervalo=(b-a)/n\n",
        "\n",
        "x=np.linspace(a,b, n)\n",
        "\n",
        "I=np.sum(funcion(x))*ancho_subinervalo\n",
        "print(I)\n"
      ],
      "metadata": {
        "colab": {
          "base_uri": "https://localhost:8080/"
        },
        "id": "tLmBfX-6IStG",
        "outputId": "3b1406cf-96af-494b-a490-37c79767778d"
      },
      "execution_count": null,
      "outputs": [
        {
          "output_type": "stream",
          "name": "stdout",
          "text": [
            "4.137931034482759\n"
          ]
        }
      ]
    },
    {
      "cell_type": "markdown",
      "source": [
        "$Integral_{exacta}= \\int_{0}^{2} x^3 dx= \\frac{x^4}{4} \\Big|_0^2 = \\frac{16}{4} =4$"
      ],
      "metadata": {
        "id": "i5NVqyRvJJOy"
      }
    },
    {
      "cell_type": "markdown",
      "source": [
        "**(f)** Dibuje el error de la estimación $ϵ=|{I_{exacta}−I_{estimada}}|$ como una función de n.  Use un array np.linspace(30,400,100, endpoint = False)."
      ],
      "metadata": {
        "id": "_5XNYfqZg33z"
      }
    },
    {
      "cell_type": "code",
      "source": [
        "import numpy as np\n",
        "import matplotlib.pyplot as plt # Import matplotlib.pyplot as plt\n",
        "\n",
        "def funcion(x):\n",
        "    return x**3\n",
        "\n",
        "a = 0.\n",
        "b = 2.\n",
        "\n",
        "Integral_exacta = 4\n",
        "valores_n = np.linspace(30, 400, 100, endpoint=False)\n",
        "\n",
        "error = [abs(Integral_exacta - np.sum(funcion(np.linspace(a, b, int(n)))) * ((b - a) / n)) for n in valores_n]\n",
        "\n",
        "print(error)\n",
        "plt.plot(valores_n, error, color='palevioletred', marker='o',\n",
        "         markerfacecolor='darkcyan', markeredgecolor='teal', markersize=4)\n",
        "plt.xlabel(\"n\")\n",
        "plt.ylabel(\"Error(ϵ)\")\n",
        "plt.title(\"Error vs n\")\n",
        "plt.grid(True, color='plum')\n",
        "plt.show()\n",
        "\n",
        "\n"
      ],
      "metadata": {
        "id": "tRb4Le5ShxkX",
        "colab": {
          "base_uri": "https://localhost:8080/",
          "height": 509
        },
        "outputId": "2d2b292b-2fc8-4801-9f98-3a8dfbd50978"
      },
      "execution_count": null,
      "outputs": [
        {
          "output_type": "stream",
          "name": "stdout",
          "text": [
            "[0.1379310344827589, 0.03931750741839757, 0.06714200831847794, 0.09002433090024375, 0.019933554817275656, 0.04299188418512845, 0.06280519870783596, 0.00848075266679782, 0.028002777134922496, 0.04525301941599125, 0.06060606060606144, 0.017793083656191477, 0.03299455000736362, 0.046759898232370034, 0.010391198044009897, 0.02394876079086483, 0.03638401956787618, 0.004778859461313623, 0.016999019287347927, 0.028319083154577207, 0.038834951456309774, 0.011492440566913231, 0.021870409662151147, 0.03158199582361476, 0.007021784799563946, 0.016596390622365398, 0.02561014263074579, 0.0033198614318701303, 0.012202866993285433, 0.020607514673748994, 0.028571428571427582, 0.008486330531942698, 0.01635586849294768, 0.023842801224359, 0.005301502092260435, 0.012697908813142256, 0.019759138223188977, 0.002541895891206458, 0.009517401166783124, 0.016196909852456365, 0.022598870056496523, 0.006726594508652539, 0.013062239106982787, 0.019150061320701184, 0.004258000043449783, 0.010282507992431356, 0.01608441809446859, 0.002058862090231095, 0.007800662214489051, 0.013341446375049415, 0.018691588785045177, 0.005571253679576671, 0.010872749763990441, 0.016000786279423806, 0.0035576321133543587, 0.008639149376061361, 0.013562180238373855, 0.0017299144942848343, 0.006608589146974708, 0.01134190226332521, 0.01593625498007878, 0.00475458753029212, 0.009311888496410958, 0.01374103829559914, 0.0030550762354675243, 0.007448687203237547, 0.01172374914169172, 0.0014915176452801049, 0.005732548701297802, 0.009863597991736306, 0.013888888888888395, 0.004146722598111552, 0.008142912692421511, 0.01204057956155058, 0.0026769092597520583, 0.006546575269674726, 0.010324239157475823, 0.001310827414148008, 0.005061576574167503, 0.008726221095841424, 0.012307692307692797, 0.0036766609704326214, 0.007234697638786258, 0.010714638866521575, 0.0023820405223862195, 0.005839366640289612, 0.009223226242164095, 0.0011691633174999438, 0.00453121325935868, 0.007824027788360333, 0.011049723756905827, 0.0033023149825730513, 0.006508747592874009, 0.009651761188425034, 0.0021456810425419803, 0.005270055873629609, 0.008334415022498654, 0.001055119355394929, 0.004101452315405929, 0.007090907348671571]\n"
          ]
        },
        {
          "output_type": "display_data",
          "data": {
            "text/plain": [
              "<Figure size 640x480 with 1 Axes>"
            ],
            "image/png": "[encoded data removed]"
          },
          "metadata": {}
        }
      ]
    },
    {
      "cell_type": "markdown",
      "source": [
        "**(g)** Es la suma de Riemmann una buena estrategía para estimar integrales?  Justifique su respuesta con lo aprendido en cuadratura de Gauss."
      ],
      "metadata": {
        "id": "fY-bi9gwhyJn"
      }
    },
    {
      "cell_type": "markdown",
      "source": [
        "A pesar de que el método de Riemman es una alternativa para realizar la estimación de las integrales, el tamaño de los subintervalos no es lo suficientemente grande y como resultado, obetemos aproximaciones con un error bastante fluctuante que disminuye con el aumento de los puntos. No obstante, metodologías como la de la cuadratura de Gauss van a ser más apropiadas ya que, esta herramienta usa puntos de evaluación óptimos con pesos asociados a estos, lo cual hace que se maximice la presición, dando un reultado más apropiado."
      ],
      "metadata": {
        "id": "YOqH65Wqh8um"
      }
    },
    {
      "cell_type": "markdown",
      "source": [
        "27. En este problema, va a encontrar la regla de cuadratura de 4 puntos usando la definición formal y la base polinomial canónica: $x^0. x^1, ..., x^n$.\n",
        "**(a)** La definición de regla de cuadratura de Gauss está dada por:\n",
        "$\\int_{-1}^1 x^k dx = \\sum_{i=0}^3 w_i(x_i)^k, \\quad k = 0, 1, ..., N$\n",
        "\n",
        "Para la regla de 4 puntos, necesitamosN= 8 ecuaciones no-lineales para encontrarlas 8 constantes:\n",
        "\n",
        "\\begin{align*}\n",
        "\\int_{-1}^1 x^0 dx &= w_0 + w_1 + w_2 + w_3 \\\\\n",
        "\\int_{-1}^1 x^1 dx &= w_0x_0 + w_1x_1 + w_2x_2 + w_3x_3\n",
        "\\end{align*}\n",
        "\n",
        "Escriba las ocho ecuaciones e implemente usando la tupla usada en clase."
      ],
      "metadata": {
        "id": "hXkzfurAh9KL"
      }
    },
    {
      "cell_type": "code",
      "source": [
        "r = np.array([0.6, 0.7, 0.5, 0.4,   # pesos iniciales\n",
        "              -0.5, -0.3, 0.3, 0.5])\n",
        "def F(r):\n",
        "    w = r[:4]\n",
        "    xi = r[4:]\n",
        "\n",
        "    eqs = np.zeros(8)\n",
        "\n",
        "    eqs[0] = w[0] + w[1] + w[2] + w[3] - 2\n",
        "    for i in range(1,len(eqs)):\n",
        "      eqs[i]=w[0]*(xi[0]**i) + w[1]*(xi[1]**i) + w[2]*(xi[2]**i) + w[3]*(xi[3]**i)\n",
        "    eqs[2] -= 2/3  # Integral de x^2 es 2/3\n",
        "    eqs[4] -= 2/5  # Integral de x^4 es 2/5\n",
        "    eqs[6] -= 2/7\n",
        "    return eqs\n",
        "resultado = F(r)\n",
        "print(resultado)"
      ],
      "metadata": {
        "id": "YjMmdxqNiN2A",
        "colab": {
          "base_uri": "https://localhost:8080/"
        },
        "outputId": "d52b6932-ba4e-4944-ffb7-9d2ea576bf0b"
      },
      "execution_count": null,
      "outputs": [
        {
          "output_type": "stream",
          "name": "stdout",
          "text": [
            "[ 0.2        -0.16       -0.30866667 -0.0304     -0.32778    -0.006736\n",
            " -0.26921449 -0.00160624]\n"
          ]
        }
      ]
    },
    {
      "cell_type": "code",
      "source": [
        "import numpy as np\n",
        "\n",
        "# Definir las ecuaciones del sistema de cuadratura de Gauss\n",
        "def F(x):\n",
        "    w = x[:4]\n",
        "    xi = x[4:]\n",
        "\n",
        "    eqs = np.zeros(8)\n",
        "\n",
        "    eqs[0] = w[0] + w[1] + w[2] + w[3] - 2\n",
        "    eqs[1] = w[0]*xi[0] + w[1]*xi[1] + w[2]*xi[2] + w[3]*xi[3]\n",
        "    eqs[2] = w[0]*xi[0]**2 + w[1]*xi[1]**2 + w[2]*xi[2]**2 + w[3]*xi[3]**2 - 2/3\n",
        "    eqs[3] = w[0]*xi[0]**3 + w[1]*xi[1]**3 + w[2]*xi[2]**3 + w[3]*xi[3]**3\n",
        "    eqs[4] = w[0]*xi[0]**4 + w[1]*xi[1]**4 + w[2]*xi[2]**4 + w[3]*xi[3]**4 - 2/5\n",
        "    eqs[5] = w[0]*xi[0]**5 + w[1]*xi[1]**5 + w[2]*xi[2]**5 + w[3]*xi[3]**5\n",
        "    eqs[6] = w[0]*xi[0]**6 + w[1]*xi[1]**6 + w[2]*xi[2]**6 + w[3]*xi[3]**6 - 2/7\n",
        "    eqs[7] = w[0]*xi[0]**7 + w[1]*xi[1]**7 + w[2]*xi[2]**7 + w[3]*xi[3]**7\n",
        "\n",
        "    return eqs\n",
        "\n",
        "# Calcular el Jacobiano\n",
        "def jacobiano(F, x, h=1e-8):\n",
        "    N = len(x)\n",
        "    J = np.zeros((8, N))\n",
        "    f0 = F(x)\n",
        "\n",
        "    for i in range(N):\n",
        "        xh = np.copy(x)\n",
        "        xh[i] += h\n",
        "        f1 = F(xh)\n",
        "        J[:, i] = (f1 - f0) / h\n",
        "\n",
        "    return J\n",
        "\n",
        "# Método de descenso del gradiente\n",
        "def descenso_gradiente(F, x0, gamma=0.01, tol=1e-5, max_iter=1000):\n",
        "    x = np.copy(x0)\n",
        "\n",
        "    for i in range(max_iter):\n",
        "        J = jacobiano(F, x)\n",
        "        F_val = F(x)\n",
        "        grad = np.dot(J.T, F_val)\n",
        "        x -= gamma * grad\n",
        "\n",
        "        if np.linalg.norm(F_val) < tol:\n",
        "            print(f\"Convergencia alcanzada en iteración {i}\")\n",
        "            break\n",
        "\n",
        "\n",
        "    return x\n",
        "f=lambda x:np.cos(x)\n",
        "# Valores iniciales\n",
        "r0 = np.random.uniform(-1., 1., size=8)\n",
        "\n",
        "# Ejecutar el descenso del gradiente\n",
        "solucion = descenso_gradiente(F, r0)\n",
        "\n",
        "solucion"
      ],
      "metadata": {
        "id": "9RrpVGtchz-3",
        "colab": {
          "base_uri": "https://localhost:8080/"
        },
        "outputId": "62d2b748-0ae2-42c8-9318-71a1e853fbc4"
      },
      "execution_count": null,
      "outputs": [
        {
          "output_type": "execute_result",
          "data": {
            "text/plain": [
              "array([ 0.50920946,  0.59665883, -0.36024541,  1.25089241,  0.79850249,\n",
              "       -0.76893258,  0.12483032,  0.07772336])"
            ]
          },
          "metadata": {},
          "execution_count": 226
        }
      ]
    },
    {
      "cell_type": "code",
      "source": [
        "\n",
        "x,w=solucion[4:],solucion[:4]\n",
        "\n",
        "np.sum(w*f(x))"
      ],
      "metadata": {
        "colab": {
          "base_uri": "https://localhost:8080/"
        },
        "outputId": "c36f7e4a-35cd-4c67-ea04-5f6c9f79b148",
        "id": "5AHQZu7gr7ub"
      },
      "execution_count": null,
      "outputs": [
        {
          "output_type": "execute_result",
          "data": {
            "text/plain": [
              "1.673780884532494"
            ]
          },
          "metadata": {},
          "execution_count": 227
        }
      ]
    },
    {
      "cell_type": "markdown",
      "source": [
        "**(b)**  Modifique el código para que la función vectorial $\\vec F(x)$ reciba las ocho variables."
      ],
      "metadata": {
        "id": "Pk_R2RQrjKrA"
      }
    },
    {
      "cell_type": "code",
      "source": [],
      "metadata": {
        "id": "BVASXWUCjfRq"
      },
      "execution_count": null,
      "outputs": []
    },
    {
      "cell_type": "markdown",
      "source": [
        "**(c)** Modifique el cóigo para calcular las 64 componentes que definen el Jacobiano."
      ],
      "metadata": {
        "id": "CTkcdu5ejfx4"
      }
    },
    {
      "cell_type": "code",
      "source": [],
      "metadata": {
        "id": "K_KF5N70jndh"
      },
      "execution_count": null,
      "outputs": []
    },
    {
      "cell_type": "markdown",
      "source": [
        "**(d)**Use el método del descenso del gradiente para estimar los 4 pesos $(w_i)$ y los 4 puntosde  Gauss  $(x_i)$.   Tenga  en  cuenta  que  la  semilla  debe  ser  un  vector  aleatorio  en  el intervalo [-1,1], i.e,r0 = np.random.uniform(-1.,1.,size=8)."
      ],
      "metadata": {
        "id": "dwGq9jtYjrnK"
      }
    },
    {
      "cell_type": "code",
      "source": [],
      "metadata": {
        "id": "_KwQX36wjqww"
      },
      "execution_count": null,
      "outputs": []
    },
    {
      "cell_type": "markdown",
      "source": [
        "  **(e)** La tasa de aprendizaje puede serγ= 0.01.  Cuando la métrica sea menor a 0.005 ajuste la tasa a γ= 0.001 para tener una solución m ́as precisa.  No se preocupe si cada vez que corre el algoritmo llega a una solución distinta.  Parece que en $R^8$, esteproblema tiene un conjunto grande de mínimos locales.\n"
      ],
      "metadata": {
        "id": "uyyMm_Cdj6xS"
      }
    },
    {
      "cell_type": "code",
      "source": [],
      "metadata": {
        "id": "TSy6pVf_kLiX"
      },
      "execution_count": null,
      "outputs": []
    },
    {
      "cell_type": "markdown",
      "source": [
        "**(f)**  Use la regla encontrada para estimar la integral:\n",
        "$\\int_{-1}^1 \\cos(x)dx = \\sum w_i f(x_i) \\approx 1.68294168,$\n",
        "\n",
        "su regla debe estimar la integral al menos con dos cifras de precisión: I≈1.6"
      ],
      "metadata": {
        "id": "U-dcxvnPkL9L"
      }
    },
    {
      "cell_type": "code",
      "source": [],
      "metadata": {
        "id": "NzpA5mLcknSL"
      },
      "execution_count": null,
      "outputs": []
    },
    {
      "cell_type": "markdown",
      "source": [
        "**(g)** ¿Cuál es la razón de que esta estimación sea tan poco precisa?"
      ],
      "metadata": {
        "id": "fOUu2huEkmvu"
      }
    },
    {
      "cell_type": "markdown",
      "source": [],
      "metadata": {
        "id": "zd714lW1kwJP"
      }
    },
    {
      "cell_type": "code",
      "source": [],
      "metadata": {
        "id": "MnttNssKkw5g"
      },
      "execution_count": null,
      "outputs": []
    },
    {
      "cell_type": "markdown",
      "source": [
        "24. (álgebra) Estrategía  de  la  mejor  inversión: el  problema  de  la  inversión  se  basa  en  la incertidumbre  respecto  a  los  eventos  futuros  que  afectan  el  comportamiento  de  algún mercado.   Vamos  a  suponer  que  se  pueden  dar  8  eventos  en  un  mercado,  y  se  disponede un capital de Ca= 1,000,000.  La cuota que paga el mercado por la inversión en el evento i- ́esimo está dada por:C= [8.51,10.68,12.24,13.66,15.37,17.15,19.66,24.69].(5.103)\n",
        "\n",
        "Donde los valores representan, indirectamente, la probabilidad de que ocurra cada evento.Por  ejemplo,  la  probabilidad  del  primer  evento  es:\n",
        "\n",
        "P(0)  =18.51.   \n",
        "\n",
        "Se  desea  distribuir  el capital entre las 8 opciones de forma tal que se maximice el retorno de dinero sin importar que opción se realice. Para maximizar el retorno de la inversión, se implementará una rutina genética que sigue los siguientes pasos:\n",
        "\n",
        "(a)  Definir el vector de cuotas C.\n"
      ],
      "metadata": {
        "id": "fYGp9G_xuQ65"
      }
    },
    {
      "cell_type": "code",
      "source": [
        "Cuotas=np.array([8.51,10.68,12.24,13.66,15.37,17.15,19.66,24.69])\n",
        "capital=1000000"
      ],
      "metadata": {
        "id": "5_dlIWeDu08Z"
      },
      "execution_count": null,
      "outputs": []
    },
    {
      "cell_type": "code",
      "source": [
        "w=np.array([0.5,0.5])\n",
        "C=np.array([8.51,10.68])\n",
        "Ca=1000000\n",
        "def R(Ca,C,w):\n",
        "   R_w=np.min(Ca*((w@C)-1))\n",
        "   return R_w\n",
        "R(Ca,C,w)"
      ],
      "metadata": {
        "id": "oKLxh0Jyu76C",
        "colab": {
          "base_uri": "https://localhost:8080/"
        },
        "outputId": "f9f36941-b531-4e3d-8bf3-efa339a75e43"
      },
      "execution_count": null,
      "outputs": [
        {
          "output_type": "execute_result",
          "data": {
            "text/plain": [
              "8594999.999999998"
            ]
          },
          "metadata": {},
          "execution_count": 238
        }
      ]
    },
    {
      "cell_type": "code",
      "source": [],
      "metadata": {
        "id": "27QZZa2Iyrq_"
      },
      "execution_count": null,
      "outputs": []
    }
  ]
}