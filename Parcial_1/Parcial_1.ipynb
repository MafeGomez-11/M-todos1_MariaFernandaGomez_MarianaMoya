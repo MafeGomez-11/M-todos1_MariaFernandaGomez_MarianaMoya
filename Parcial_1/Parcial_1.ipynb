{
  "nbformat": 4,
  "nbformat_minor": 0,
  "metadata": {
    "colab": {
      "provenance": [],
      "authorship_tag": "ABX9TyNXpnnbYesA74jfnrHZDBa3",
      "include_colab_link": true
    },
    "kernelspec": {
      "name": "python3",
      "display_name": "Python 3"
    },
    "language_info": {
      "name": "python"
    }
  },
  "cells": [
    {
      "cell_type": "markdown",
      "metadata": {
        "id": "view-in-github",
        "colab_type": "text"
      },
      "source": [
        "<a href=\"https://colab.research.google.com/github/MafeGomez-11/Metodos1_MariaFernandaGomez_MarianaMoya/blob/main/Parcial_1/Parcial_1.ipynb\" target=\"_parent\"><img src=\"https://colab.research.google.com/assets/colab-badge.svg\" alt=\"Open In Colab\"/></a>"
      ]
    },
    {
      "cell_type": "code",
      "source": [
        "import numpy as np\n",
        "import sympy as sym\n",
        "import matplotlib.pyplot as plt"
      ],
      "metadata": {
        "id": "gemDurU9KbAX"
      },
      "execution_count": null,
      "outputs": []
    },
    {
      "cell_type": "markdown",
      "source": [
        "#Ejercicios raíces de polinomios"
      ],
      "metadata": {
        "id": "3UVHoTI3JKq9"
      }
    },
    {
      "cell_type": "markdown",
      "source": [
        "#5.\n"
      ],
      "metadata": {
        "id": "n44zv3G2JbJL"
      }
    },
    {
      "cell_type": "code",
      "source": [
        "x = sym.Symbol('x',real=True)\n",
        "\n",
        "#def derivada_central(f,x,h=0.05):\n",
        " #   d = 0.\n",
        "  #  if h != 0:\n",
        "   #     # Define a function using the SymPy expression f\n",
        "    #    g = sym.lambdify(x, f, 'numpy')\n",
        "     #   d = (g(x+h) - g(x-h))/(2*h) # Call the function g\n",
        "    #return d\n",
        "\n",
        "def L(n, x):\n",
        "    return sym.exp(x) / sym.factorial(n) * sym.diff(x**n * sym.exp(-x), x)\n",
        "\n",
        "def GetNewtonMethod(f,df,xn,itmax=1000,precision=1e-16):\n",
        "  error = 1\n",
        "  it = 0\n",
        "  while error > precision and it < itmax:\n",
        "    try:\n",
        "      xn1 = xn - f(xn)/df(f,xn)\n",
        "      error = np.abs(f(xn)/df(f,xn))\n",
        "    except ZeroDivisionError:\n",
        "      print('Division by zero error')\n",
        "    xn = xn1\n",
        "    it += 1\n",
        "  if it == itmax:\n",
        "    return False\n",
        "  else:\n",
        "    return xn\n",
        "n_values = np.array([1,2,3,4,5])\n",
        "\n",
        "def GetAllRoots(n_values, tolerancia = 16):\n",
        "  Roots = np.array([])\n",
        "  for n in n_values:\n",
        "    root = GetNewtonMethod(L(n,x),sym.diff(L(n,x),x),n)\n",
        "    if root != False:\n",
        "      croot = np.round( root, tolerancia)\n",
        "      if croot not in Roots:\n",
        "        Roots = np.append(Roots,croot)\n",
        "  Roots.sort()\n",
        "  return Roots\n",
        "\n",
        "raices=GetAllRoots(n_values)\n",
        "\n"
      ],
      "metadata": {
        "id": "UaBHK73TJdOF",
        "colab": {
          "base_uri": "https://localhost:8080/",
          "height": 339
        },
        "outputId": "6eddf828-d03b-4d58-f4a2-088b0fee1773"
      },
      "execution_count": null,
      "outputs": [
        {
          "output_type": "error",
          "ename": "TypeError",
          "evalue": "'Mul' object is not callable",
          "traceback": [
            "\u001b[0;31m---------------------------------------------------------------------------\u001b[0m",
            "\u001b[0;31mTypeError\u001b[0m                                 Traceback (most recent call last)",
            "\u001b[0;32m<ipython-input-13-eb2b5850fa6a>\u001b[0m in \u001b[0;36m<cell line: 42>\u001b[0;34m()\u001b[0m\n\u001b[1;32m     40\u001b[0m   \u001b[0;32mreturn\u001b[0m \u001b[0mRoots\u001b[0m\u001b[0;34m\u001b[0m\u001b[0;34m\u001b[0m\u001b[0m\n\u001b[1;32m     41\u001b[0m \u001b[0;34m\u001b[0m\u001b[0m\n\u001b[0;32m---> 42\u001b[0;31m \u001b[0mraices\u001b[0m\u001b[0;34m=\u001b[0m\u001b[0mGetAllRoots\u001b[0m\u001b[0;34m(\u001b[0m\u001b[0mn_values\u001b[0m\u001b[0;34m)\u001b[0m\u001b[0;34m\u001b[0m\u001b[0;34m\u001b[0m\u001b[0m\n\u001b[0m\u001b[1;32m     43\u001b[0m \u001b[0;34m\u001b[0m\u001b[0m\n",
            "\u001b[0;32m<ipython-input-13-eb2b5850fa6a>\u001b[0m in \u001b[0;36mGetAllRoots\u001b[0;34m(n_values, tolerancia)\u001b[0m\n\u001b[1;32m     32\u001b[0m   \u001b[0mRoots\u001b[0m \u001b[0;34m=\u001b[0m \u001b[0mnp\u001b[0m\u001b[0;34m.\u001b[0m\u001b[0marray\u001b[0m\u001b[0;34m(\u001b[0m\u001b[0;34m[\u001b[0m\u001b[0;34m]\u001b[0m\u001b[0;34m)\u001b[0m\u001b[0;34m\u001b[0m\u001b[0;34m\u001b[0m\u001b[0m\n\u001b[1;32m     33\u001b[0m   \u001b[0;32mfor\u001b[0m \u001b[0mn\u001b[0m \u001b[0;32min\u001b[0m \u001b[0mn_values\u001b[0m\u001b[0;34m:\u001b[0m\u001b[0;34m\u001b[0m\u001b[0;34m\u001b[0m\u001b[0m\n\u001b[0;32m---> 34\u001b[0;31m     \u001b[0mroot\u001b[0m \u001b[0;34m=\u001b[0m \u001b[0mGetNewtonMethod\u001b[0m\u001b[0;34m(\u001b[0m\u001b[0mL\u001b[0m\u001b[0;34m(\u001b[0m\u001b[0mn\u001b[0m\u001b[0;34m,\u001b[0m\u001b[0mx\u001b[0m\u001b[0;34m)\u001b[0m\u001b[0;34m,\u001b[0m\u001b[0msym\u001b[0m\u001b[0;34m.\u001b[0m\u001b[0mdiff\u001b[0m\u001b[0;34m(\u001b[0m\u001b[0mL\u001b[0m\u001b[0;34m(\u001b[0m\u001b[0mn\u001b[0m\u001b[0;34m,\u001b[0m\u001b[0mx\u001b[0m\u001b[0;34m)\u001b[0m\u001b[0;34m,\u001b[0m\u001b[0mx\u001b[0m\u001b[0;34m)\u001b[0m\u001b[0;34m,\u001b[0m\u001b[0mn\u001b[0m\u001b[0;34m)\u001b[0m\u001b[0;34m\u001b[0m\u001b[0;34m\u001b[0m\u001b[0m\n\u001b[0m\u001b[1;32m     35\u001b[0m     \u001b[0;32mif\u001b[0m \u001b[0mroot\u001b[0m \u001b[0;34m!=\u001b[0m \u001b[0;32mFalse\u001b[0m\u001b[0;34m:\u001b[0m\u001b[0;34m\u001b[0m\u001b[0;34m\u001b[0m\u001b[0m\n\u001b[1;32m     36\u001b[0m       \u001b[0mcroot\u001b[0m \u001b[0;34m=\u001b[0m \u001b[0mnp\u001b[0m\u001b[0;34m.\u001b[0m\u001b[0mround\u001b[0m\u001b[0;34m(\u001b[0m \u001b[0mroot\u001b[0m\u001b[0;34m,\u001b[0m \u001b[0mtolerancia\u001b[0m\u001b[0;34m)\u001b[0m\u001b[0;34m\u001b[0m\u001b[0;34m\u001b[0m\u001b[0m\n",
            "\u001b[0;32m<ipython-input-13-eb2b5850fa6a>\u001b[0m in \u001b[0;36mGetNewtonMethod\u001b[0;34m(f, df, xn, itmax, precision)\u001b[0m\n\u001b[1;32m     17\u001b[0m   \u001b[0;32mwhile\u001b[0m \u001b[0merror\u001b[0m \u001b[0;34m>\u001b[0m \u001b[0mprecision\u001b[0m \u001b[0;32mand\u001b[0m \u001b[0mit\u001b[0m \u001b[0;34m<\u001b[0m \u001b[0mitmax\u001b[0m\u001b[0;34m:\u001b[0m\u001b[0;34m\u001b[0m\u001b[0;34m\u001b[0m\u001b[0m\n\u001b[1;32m     18\u001b[0m     \u001b[0;32mtry\u001b[0m\u001b[0;34m:\u001b[0m\u001b[0;34m\u001b[0m\u001b[0;34m\u001b[0m\u001b[0m\n\u001b[0;32m---> 19\u001b[0;31m       \u001b[0mxn1\u001b[0m \u001b[0;34m=\u001b[0m \u001b[0mxn\u001b[0m \u001b[0;34m-\u001b[0m \u001b[0mf\u001b[0m\u001b[0;34m(\u001b[0m\u001b[0mxn\u001b[0m\u001b[0;34m)\u001b[0m\u001b[0;34m/\u001b[0m\u001b[0mdf\u001b[0m\u001b[0;34m(\u001b[0m\u001b[0mf\u001b[0m\u001b[0;34m,\u001b[0m\u001b[0mxn\u001b[0m\u001b[0;34m)\u001b[0m\u001b[0;34m\u001b[0m\u001b[0;34m\u001b[0m\u001b[0m\n\u001b[0m\u001b[1;32m     20\u001b[0m       \u001b[0merror\u001b[0m \u001b[0;34m=\u001b[0m \u001b[0mnp\u001b[0m\u001b[0;34m.\u001b[0m\u001b[0mabs\u001b[0m\u001b[0;34m(\u001b[0m\u001b[0mf\u001b[0m\u001b[0;34m(\u001b[0m\u001b[0mxn\u001b[0m\u001b[0;34m)\u001b[0m\u001b[0;34m/\u001b[0m\u001b[0mdf\u001b[0m\u001b[0;34m(\u001b[0m\u001b[0mf\u001b[0m\u001b[0;34m,\u001b[0m\u001b[0mxn\u001b[0m\u001b[0;34m)\u001b[0m\u001b[0;34m)\u001b[0m\u001b[0;34m\u001b[0m\u001b[0;34m\u001b[0m\u001b[0m\n\u001b[1;32m     21\u001b[0m     \u001b[0;32mexcept\u001b[0m \u001b[0mZeroDivisionError\u001b[0m\u001b[0;34m:\u001b[0m\u001b[0;34m\u001b[0m\u001b[0;34m\u001b[0m\u001b[0m\n",
            "\u001b[0;31mTypeError\u001b[0m: 'Mul' object is not callable"
          ]
        }
      ]
    },
    {
      "cell_type": "markdown",
      "source": [
        "#7."
      ],
      "metadata": {
        "id": "OUOKmppkJd3T"
      }
    },
    {
      "cell_type": "code",
      "source": [
        "#Punto b\n",
        "import numpy as np\n",
        "import sympy as sym\n",
        "import matplotlib.pyplot as plt\n",
        "def camino_opt(x, n0,n1):\n",
        "\n",
        "    T = (-3, 2)\n",
        "    R = (2, -2)\n",
        "\n",
        "    d1=np.sqrt((x + T[0])**2 + T[1]**2)\n",
        "    d2 = np.sqrt((x - R[0])**2 + (R[1])**2)\n",
        "    ct_x = n0 * d1 + n1 * d2\n",
        "    return ct_x\n",
        "n0=1\n",
        "n1=1.33\n",
        "x_values = np.linspace(-10, 10, 400)\n",
        "ct_values = camino_opt(x_values, n0, n1)\n",
        "\n",
        "\n",
        "x_minimo = x_values[np.argmin(ct_values)]\n",
        "camino_optimo_minimo = np.min(ct_values)\n",
        "\n",
        "print(f'El mínimo camino óptico se encuentra en x = {x_minimo:.2f}')\n",
        "print(f'Camino óptico mínimo = {camino_optimo_minimo:.2f}')\n",
        "\n",
        "plt.figure(figsize=(10, 6))\n",
        "plt.plot(x_values, ct_values, label='Camino óptico $c t(x)$')\n",
        "plt.xlabel('Posición en $x$')\n",
        "plt.ylabel('Camino óptico $c t(x)$')\n",
        "plt.title('Camino óptico del pulso de luz en función de la posición $x$')\n",
        "plt.legend()\n",
        "plt.grid(True)\n",
        "plt.show()"
      ],
      "metadata": {
        "id": "tL86yac-JgjT",
        "colab": {
          "base_uri": "https://localhost:8080/",
          "height": 604
        },
        "outputId": "5bda4b6c-f438-49a0-fa10-a53abfdec93d"
      },
      "execution_count": null,
      "outputs": [
        {
          "output_type": "stream",
          "name": "stdout",
          "text": [
            "El mínimo camino óptico se encuentra en x = 2.43\n",
            "Camino óptico mínimo = 4.80\n"
          ]
        },
        {
          "output_type": "display_data",
          "data": {
            "text/plain": [
              "<Figure size 1000x600 with 1 Axes>"
            ],
            "image/png": "[encoded data removed]"
          },
          "metadata": {}
        }
      ]
    },
    {
      "cell_type": "code",
      "source": [
        "#c\n",
        "\n",
        "def derivada_central(x, n0, h=1e-5):\n",
        "    return (camino_opt(x + h, n0, n1) - camino_opt(x - h, n0, n1)) / (2 * h)\n",
        "\n",
        "def segunda_derivada_central(x, n0, h=1e-5):\n",
        "    return (camino_opt(x + h, n0, n1) - 2 * camino_opt(x, n0, n1) + camino_opt(x - h, n0, n1)) / (h ** 2)\n",
        "# Newton-Raphson para encontrar el mínimo\n",
        "def newton_raphson(f, x0, tol=1e-9, max_iter=100):\n",
        "    x = x0\n",
        "    h=1e-5\n",
        "    for i in range(max_iter):\n",
        "        primera_der = derivada_central(x, n0, n1)\n",
        "        segunda_der = segunda_derivada_central(x, n0, n1)\n",
        "        if segunda_der == 0:\n",
        "            break\n",
        "        x_new = x - primera_der / segunda_der\n",
        "        if abs(x_new - x) < tol:\n",
        "            break\n",
        "        x = x_new\n",
        "    return x, camino_opt(x, n0, n1)\n",
        "\n",
        "# Aproximación inicial\n",
        "x0 = 0\n",
        "x_minimo, camino_optimo_minimo = newton_raphson(x0, n0, n1)\n",
        "\n",
        "\n",
        "print(f\"El mínimo del tiempo se alcanza en x = {x_minimo}\")"
      ],
      "metadata": {
        "colab": {
          "base_uri": "https://localhost:8080/"
        },
        "id": "QUHHKmn3XdHV",
        "outputId": "313503c9-6e01-4a58-dd8a-a88f12a3deed"
      },
      "execution_count": null,
      "outputs": [
        {
          "output_type": "stream",
          "name": "stdout",
          "text": [
            "El mínimo del tiempo se alcanza en x = 2.799699888059144\n"
          ]
        }
      ]
    },
    {
      "cell_type": "code",
      "source": [
        "import numpy as np\n",
        "\n",
        "def calcular_angulos_simplificado(x_min, T, R):\n",
        "    T_x, T_y = T\n",
        "    R_x, R_y = R\n",
        "\n",
        "    alfa_0 = np.arctan(T_y / (x_min - T_x))\n",
        "    alfa_0_deg = np.degrees(alpha_0)\n",
        "\n",
        "\n",
        "    alfa_1 = np.arctan(R_y / (x_min - R_x))\n",
        "    alfa_1_deg = np.degrees(alpha_1)\n",
        "\n",
        "    return alfa_0_deg, alfa_1_deg\n",
        "T = (-3, 2)\n",
        "R = (2, -2)\n",
        "alpha_0, alpha_1 = calcular_angulos_simplificado(x_minimo, T, R)\n",
        "\n",
        "print(f'Ángulo de incidencia α0 = {alpha_0:.10f} grados')\n",
        "print(f'Ángulo de refracción α1 = {alpha_1:.10f} grados')\n"
      ],
      "metadata": {
        "colab": {
          "base_uri": "https://localhost:8080/"
        },
        "id": "Y0uAxxDbaI_n",
        "outputId": "3c82da3e-9ecf-4667-a2c3-80da6311da28"
      },
      "execution_count": null,
      "outputs": [
        {
          "output_type": "stream",
          "name": "stdout",
          "text": [
            "Ángulo de incidencia α0 = 19.0265197434 grados\n",
            "Ángulo de refracción α1 = -68.2060025987 grados\n"
          ]
        }
      ]
    },
    {
      "cell_type": "code",
      "source": [
        "def comprobar_snell(alfa_0,alfa_1,n1,n2):\n",
        "    seno_alfa_0 = np.sin((alfa_0))\n",
        "    seno_alfa_1 = np.sin((alfa_1))\n",
        "    verificacion=n0*seno_alfa_0/n1*seno_alfa_1\n",
        "    return verificacion\n",
        "comprobar_snell(alpha_0,alpha_1,n0,n1)"
      ],
      "metadata": {
        "colab": {
          "base_uri": "https://localhost:8080/"
        },
        "id": "6ExqgbKebGIB",
        "outputId": "1b84d6b1-29c0-495a-97af-9367016ce490"
      },
      "execution_count": null,
      "outputs": [
        {
          "output_type": "execute_result",
          "data": {
            "text/plain": [
              "0.13888128018653506"
            ]
          },
          "metadata": {},
          "execution_count": 27
        }
      ]
    },
    {
      "cell_type": "markdown",
      "source": [
        "#Ejercicios interpolación"
      ],
      "metadata": {
        "id": "J-J0fypWJhIs"
      }
    },
    {
      "cell_type": "markdown",
      "source": [
        "#7"
      ],
      "metadata": {
        "id": "_HPz81RjJmgJ"
      }
    },
    {
      "cell_type": "code",
      "source": [
        "#punto a)\n",
        "X = np.array([0,np.pi/3,np.pi/2,])\n",
        "Y = np.array([np.sin(0),np.sin(np.pi/3),np.sin(np.pi/2)])\n",
        "plt.scatter(X,Y,color='green')"
      ],
      "metadata": {
        "id": "B9UcUBZ0Jnso",
        "colab": {
          "base_uri": "https://localhost:8080/",
          "height": 447
        },
        "outputId": "71a62c96-16bf-4c4c-9a00-bbb7a7a73a0c"
      },
      "execution_count": 28,
      "outputs": [
        {
          "output_type": "execute_result",
          "data": {
            "text/plain": [
              "<matplotlib.collections.PathCollection at 0x7e9f589e0f10>"
            ]
          },
          "metadata": {},
          "execution_count": 28
        },
        {
          "output_type": "display_data",
          "data": {
            "text/plain": [
              "<Figure size 640x480 with 1 Axes>"
            ],
            "image/png": "[encoded data removed]"
          },
          "metadata": {}
        }
      ]
    },
    {
      "cell_type": "code",
      "source": [
        "x=sym.Symbol('x', real=\"True\")\n",
        "\n",
        "def Lagrange(x,X,i):\n",
        "  L = 1\n",
        "  for j in range(len(X)):\n",
        "    if i != j:\n",
        "      L *= (x-X[j])/(X[i]-X[j])\n",
        "  return L\n",
        "def Interpolate(x,X,Y):\n",
        "  Poly = 0\n",
        "  for i in range(len(X)):\n",
        "    Poly += Y[i]*Lagrange(x,X,i)\n",
        "  return Poly"
      ],
      "metadata": {
        "id": "yhSCl5dweqfc"
      },
      "execution_count": 29,
      "outputs": []
    },
    {
      "cell_type": "code",
      "source": [
        "poly=Interpolate(x,X,Y)\n",
        "poly=poly.expand()\n",
        "poly"
      ],
      "metadata": {
        "colab": {
          "base_uri": "https://localhost:8080/",
          "height": 38
        },
        "id": "kjBTizlkesjy",
        "outputId": "942bf23f-2340-46b1-d268-015c9cfc14c6"
      },
      "execution_count": 30,
      "outputs": [
        {
          "output_type": "execute_result",
          "data": {
            "text/plain": [
              "-0.363586737855857*x**2 + 1.2077404846629*x"
            ],
            "text/latex": "$\\displaystyle - 0.363586737855857 x^{2} + 1.2077404846629 x$"
          },
          "metadata": {},
          "execution_count": 30
        }
      ]
    },
    {
      "cell_type": "code",
      "source": [
        "x1 = np.linspace(0, np.pi/2, 100)\n",
        "y1 = Interpolate(x1,X,Y)\n",
        "#Punto b\n",
        "plt.scatter(X,Y,color='green')\n",
        "plt.title('Interpolación de Lagrange')\n",
        "plt.plot(x1,y1, color='pink')"
      ],
      "metadata": {
        "colab": {
          "base_uri": "https://localhost:8080/",
          "height": 470
        },
        "id": "1X6eVCWheuD9",
        "outputId": "0498140a-d6e8-4f5b-d476-cdaaeff1868d"
      },
      "execution_count": 31,
      "outputs": [
        {
          "output_type": "execute_result",
          "data": {
            "text/plain": [
              "[<matplotlib.lines.Line2D at 0x7e9f58a63610>]"
            ]
          },
          "metadata": {},
          "execution_count": 31
        },
        {
          "output_type": "display_data",
          "data": {
            "text/plain": [
              "<Figure size 640x480 with 1 Axes>"
            ],
            "image/png": "[encoded data removed]"
          },
          "metadata": {}
        }
      ]
    },
    {
      "cell_type": "code",
      "source": [
        "#punto c\n",
        "valor = poly.subs(x,np.sin(np.pi/8))\n",
        "print(valor)"
      ],
      "metadata": {
        "colab": {
          "base_uri": "https://localhost:8080/"
        },
        "id": "V81vONkFe2yp",
        "outputId": "bd704c69-a78c-4a55-90b8-083277adbaa6"
      },
      "execution_count": 32,
      "outputs": [
        {
          "output_type": "stream",
          "name": "stdout",
          "text": [
            "0.408936229092834\n"
          ]
        }
      ]
    },
    {
      "cell_type": "code",
      "source": [
        "#punto d\n",
        "error=np.abs(np.sin(np.pi/8)-valor)\n",
        "print(error)"
      ],
      "metadata": {
        "colab": {
          "base_uri": "https://localhost:8080/"
        },
        "id": "DDo19au4e5_O",
        "outputId": "e80523f7-c0c8-4053-ad1d-c23aa93a5f96"
      },
      "execution_count": 33,
      "outputs": [
        {
          "output_type": "stream",
          "name": "stdout",
          "text": [
            "0.0262527967277440\n"
          ]
        }
      ]
    },
    {
      "cell_type": "code",
      "source": [],
      "metadata": {
        "id": "eMaIFemFe88i"
      },
      "execution_count": null,
      "outputs": []
    }
  ]
}