{
  "nbformat": 4,
  "nbformat_minor": 0,
  "metadata": {
    "colab": {
      "provenance": [],
      "authorship_tag": "ABX9TyPCygtBFVAZBzDuFeDcR7zk",
      "include_colab_link": true
    },
    "kernelspec": {
      "name": "python3",
      "display_name": "Python 3"
    },
    "language_info": {
      "name": "python"
    }
  },
  "cells": [
    {
      "cell_type": "markdown",
      "metadata": {
        "id": "view-in-github",
        "colab_type": "text"
      },
      "source": [
        "<a href=\"https://colab.research.google.com/github/MafeGomez-11/Metodos1_MariaFernandaGomez_MarianaMoya/blob/main/Parcial_3/Markov_2_3.ipynb\" target=\"_parent\"><img src=\"https://colab.research.google.com/assets/colab-badge.svg\" alt=\"Open In Colab\"/></a>"
      ]
    },
    {
      "cell_type": "code",
      "execution_count": null,
      "metadata": {
        "id": "46H3as9kdIp6"
      },
      "outputs": [],
      "source": [
        "import numpy as np\n",
        "import matplotlib.pyplot as plt"
      ]
    },
    {
      "cell_type": "markdown",
      "source": [
        "**2.** En una cadena de producción existen dos estaciones: la estación de producción y la estación de empaque. En la estación de producción, hay una probabilidad del 90% de que el producto avance a la estación de empaque y una probabilidad del 10% de que el producto tenga un defecto, lo que hace que permanezca en la etapa de producción. Una vez que el producto llega a la estación de empaque, tiene una probabilidad del 95% de ser enviado al mercado y una probabilidad del 5% de quedarse en la estación de empaque.\n",
        "\n",
        "Responda las siguientes preguntas:"
      ],
      "metadata": {
        "id": "rDKkix2bf__H"
      }
    },
    {
      "cell_type": "markdown",
      "source": [
        "(a) Describa las variables observables del problema."
      ],
      "metadata": {
        "id": "53eCYqcTgdPG"
      }
    },
    {
      "cell_type": "code",
      "source": [
        "# Punto a:\n",
        "# Variables observables del problema:\n",
        "# S1: Producto en la estación de producción.\n",
        "# S2: Producto en la estación de empaque.\n",
        "# S3: Producto en el mercado\n",
        "states= {\n",
        "    0: \"Estación de producción\",\n",
        "    1: \"Estación de empaque\",\n",
        "    2: \"Mercado\"\n",
        "}"
      ],
      "metadata": {
        "id": "izYrw7ChgJhm"
      },
      "execution_count": null,
      "outputs": []
    },
    {
      "cell_type": "markdown",
      "source": [
        "\n",
        "(b) Defina el conjunto de estados $S=\\{S_1,S_2,S_3\\}$."
      ],
      "metadata": {
        "id": "6-cuF0PJziJo"
      }
    },
    {
      "cell_type": "code",
      "source": [
        "S=[\"S1: Producción\", \"S2: Empaque\", \"S3: Mercado\"]"
      ],
      "metadata": {
        "id": "9nAMZAqtgbPT"
      },
      "execution_count": null,
      "outputs": []
    },
    {
      "cell_type": "markdown",
      "source": [
        "(c) Construya la matriz de transición de este proceso estocástico."
      ],
      "metadata": {
        "id": "f7dR7KvigkHW"
      }
    },
    {
      "cell_type": "code",
      "source": [
        "T=np.array([[0.10, 0.90, 0.0],\n",
        "           [0.00, 0.05, 0.95],\n",
        "           [0.00, 0.00, 1.00]])\n",
        "np.sum(T, axis=1)"
      ],
      "metadata": {
        "colab": {
          "base_uri": "https://localhost:8080/"
        },
        "id": "3E0h4PUNgpxf",
        "outputId": "d784e6d0-11f7-497c-d791-c9b6419f5f6e"
      },
      "execution_count": null,
      "outputs": [
        {
          "output_type": "execute_result",
          "data": {
            "text/plain": [
              "array([1., 1., 1.])"
            ]
          },
          "metadata": {},
          "execution_count": 9
        }
      ]
    },
    {
      "cell_type": "markdown",
      "source": [
        "(d) Encuentre el estado estable tanto algebraicamente como numéricamente. Recuerde $\\pi\\mathbb{P}=\\pi$ para el estado estable. ¿Qué interpretación le da al estado estable?\n"
      ],
      "metadata": {
        "id": "3FqzmAahhDXH"
      }
    },
    {
      "cell_type": "code",
      "source": [
        "# np.dot(np.dot(T, T), np.dot(T, T))\n",
        "# np.linalg.matrix_power(T,10)\n",
        "\n",
        "Inicial=np.array([1,0,0])\n",
        "States=np.array([Inicial])\n",
        "\n",
        "for i in range(50):\n",
        "    Inicial=np.dot(Inicial, T)\n",
        "    States=np.vstack((States, Inicial))\n"
      ],
      "metadata": {
        "collapsed": true,
        "id": "WbxpHUT2groa"
      },
      "execution_count": null,
      "outputs": []
    },
    {
      "cell_type": "code",
      "source": [
        "for i in range (len(Inicial)):\n",
        "    Inicial[i]=round(Inicial[i],1)\n",
        "\n",
        "print(f\"Estado después de 50 iteraciones: {Inicial}\")\n",
        "print(\"Evolución de los estados:\")\n",
        "States"
      ],
      "metadata": {
        "colab": {
          "base_uri": "https://localhost:8080/"
        },
        "id": "VwhFEjWGiqRw",
        "outputId": "b8420268-cd96-4472-e84a-cc48daea133d"
      },
      "execution_count": null,
      "outputs": [
        {
          "output_type": "stream",
          "name": "stdout",
          "text": [
            "Estado después de 50 iteraciones: [0. 0. 1.]\n",
            "Evolución de los estados:\n"
          ]
        },
        {
          "output_type": "execute_result",
          "data": {
            "text/plain": [
              "array([[1.00000000e+00, 0.00000000e+00, 0.00000000e+00],\n",
              "       [1.00000000e-01, 9.00000000e-01, 0.00000000e+00],\n",
              "       [1.00000000e-02, 1.35000000e-01, 8.55000000e-01],\n",
              "       [1.00000000e-03, 1.57500000e-02, 9.83250000e-01],\n",
              "       [1.00000000e-04, 1.68750000e-03, 9.98212500e-01],\n",
              "       [1.00000000e-05, 1.74375000e-04, 9.99815625e-01],\n",
              "       [1.00000000e-06, 1.77187500e-05, 9.99981281e-01],\n",
              "       [1.00000000e-07, 1.78593750e-06, 9.99998114e-01],\n",
              "       [1.00000000e-08, 1.79296875e-07, 9.99999811e-01],\n",
              "       [1.00000000e-09, 1.79648438e-08, 9.99999981e-01],\n",
              "       [1.00000000e-10, 1.79824219e-09, 9.99999998e-01],\n",
              "       [1.00000000e-11, 1.79912109e-10, 1.00000000e+00],\n",
              "       [1.00000000e-12, 1.79956055e-11, 1.00000000e+00],\n",
              "       [1.00000000e-13, 1.79978027e-12, 1.00000000e+00],\n",
              "       [1.00000000e-14, 1.79989014e-13, 1.00000000e+00],\n",
              "       [1.00000000e-15, 1.79994507e-14, 1.00000000e+00],\n",
              "       [1.00000000e-16, 1.79997253e-15, 1.00000000e+00],\n",
              "       [1.00000000e-17, 1.79998627e-16, 1.00000000e+00],\n",
              "       [1.00000000e-18, 1.79999313e-17, 1.00000000e+00],\n",
              "       [1.00000000e-19, 1.79999657e-18, 1.00000000e+00],\n",
              "       [1.00000000e-20, 1.79999828e-19, 1.00000000e+00],\n",
              "       [1.00000000e-21, 1.79999914e-20, 1.00000000e+00],\n",
              "       [1.00000000e-22, 1.79999957e-21, 1.00000000e+00],\n",
              "       [1.00000000e-23, 1.79999979e-22, 1.00000000e+00],\n",
              "       [1.00000000e-24, 1.79999989e-23, 1.00000000e+00],\n",
              "       [1.00000000e-25, 1.79999995e-24, 1.00000000e+00],\n",
              "       [1.00000000e-26, 1.79999997e-25, 1.00000000e+00],\n",
              "       [1.00000000e-27, 1.79999999e-26, 1.00000000e+00],\n",
              "       [1.00000000e-28, 1.79999999e-27, 1.00000000e+00],\n",
              "       [1.00000000e-29, 1.80000000e-28, 1.00000000e+00],\n",
              "       [1.00000000e-30, 1.80000000e-29, 1.00000000e+00],\n",
              "       [1.00000000e-31, 1.80000000e-30, 1.00000000e+00],\n",
              "       [1.00000000e-32, 1.80000000e-31, 1.00000000e+00],\n",
              "       [1.00000000e-33, 1.80000000e-32, 1.00000000e+00],\n",
              "       [1.00000000e-34, 1.80000000e-33, 1.00000000e+00],\n",
              "       [1.00000000e-35, 1.80000000e-34, 1.00000000e+00],\n",
              "       [1.00000000e-36, 1.80000000e-35, 1.00000000e+00],\n",
              "       [1.00000000e-37, 1.80000000e-36, 1.00000000e+00],\n",
              "       [1.00000000e-38, 1.80000000e-37, 1.00000000e+00],\n",
              "       [1.00000000e-39, 1.80000000e-38, 1.00000000e+00],\n",
              "       [1.00000000e-40, 1.80000000e-39, 1.00000000e+00],\n",
              "       [1.00000000e-41, 1.80000000e-40, 1.00000000e+00],\n",
              "       [1.00000000e-42, 1.80000000e-41, 1.00000000e+00],\n",
              "       [1.00000000e-43, 1.80000000e-42, 1.00000000e+00],\n",
              "       [1.00000000e-44, 1.80000000e-43, 1.00000000e+00],\n",
              "       [1.00000000e-45, 1.80000000e-44, 1.00000000e+00],\n",
              "       [1.00000000e-46, 1.80000000e-45, 1.00000000e+00],\n",
              "       [1.00000000e-47, 1.80000000e-46, 1.00000000e+00],\n",
              "       [1.00000000e-48, 1.80000000e-47, 1.00000000e+00],\n",
              "       [1.00000000e-49, 1.80000000e-48, 1.00000000e+00],\n",
              "       [1.00000000e-50, 1.80000000e-49, 1.00000000e+00]])"
            ]
          },
          "metadata": {},
          "execution_count": 28
        }
      ]
    },
    {
      "cell_type": "code",
      "source": [
        "differences = np.linalg.norm(np.diff(States, axis=0), axis=1)\n",
        "print(f\"Diferencias entre iteraciones: {differences}\")"
      ],
      "metadata": {
        "colab": {
          "base_uri": "https://localhost:8080/"
        },
        "id": "nqoxXCG8i9rX",
        "outputId": "1b28bc69-9765-4dcb-d18c-0c6d0f405988"
      },
      "execution_count": null,
      "outputs": [
        {
          "output_type": "stream",
          "name": "stdout",
          "text": [
            "Diferencias entre iteraciones: [1.27279221e+00 1.15080407e+00 1.75355710e-01 2.05533528e-02\n",
            " 2.20627673e-03 2.28175752e-04 2.31950014e-05 2.33837198e-06\n",
            " 2.34780802e-07 2.35252608e-08 2.35488508e-09 2.35606463e-10\n",
            " 2.35665839e-11 2.35691460e-12 2.35698633e-13 2.35702219e-14\n",
            " 2.32502787e-15 2.75006152e-16 1.62249156e-17 1.62249482e-18\n",
            " 1.62249645e-19 1.62249726e-20 1.62249767e-21 1.62249787e-22\n",
            " 1.62249797e-23 1.62249802e-24 1.62249805e-25 1.62249806e-26\n",
            " 1.62249807e-27 1.62249807e-28 1.62249807e-29 1.62249807e-30\n",
            " 1.62249807e-31 1.62249807e-32 1.62249807e-33 1.62249807e-34\n",
            " 1.62249807e-35 1.62249807e-36 1.62249807e-37 1.62249807e-38\n",
            " 1.62249807e-39 1.62249807e-40 1.62249807e-41 1.62249807e-42\n",
            " 1.62249807e-43 1.62249807e-44 1.62249807e-45 1.62249807e-46\n",
            " 1.62249807e-47 1.62249807e-48]\n"
          ]
        }
      ]
    },
    {
      "cell_type": "code",
      "source": [
        "π1 = 0\n",
        "π2 = 0\n",
        "π3 = 1\n",
        "π1 * 0.10 + π2 * 0.00 + π3 * 0.00 == π1\n",
        "π1 * 0.90 + π2 * 0.05 + π3 * 0.00 == π2\n",
        "π1 * 0.00 + π2 * 0.95 + π3 * 1.00 == π3\n",
        "π1 + π2 + π3 == 1"
      ],
      "metadata": {
        "colab": {
          "base_uri": "https://localhost:8080/"
        },
        "id": "fZ9-sCYoy6zY",
        "outputId": "926b63aa-54d3-436f-e2ae-4c717e3d0662"
      },
      "execution_count": null,
      "outputs": [
        {
          "output_type": "execute_result",
          "data": {
            "text/plain": [
              "True"
            ]
          },
          "metadata": {},
          "execution_count": 31
        }
      ]
    },
    {
      "cell_type": "markdown",
      "source": [
        "(e) Determine la probabilidad en estado estable de que ambas estaciones estén ocupadas al mismo tiempo.\n"
      ],
      "metadata": {
        "id": "WT3i8n85iq4Y"
      }
    },
    {
      "cell_type": "code",
      "source": [
        "ambos_ocupadas=π1+π2-al_menos_uno_ocupado #al ser estados excluyentes, es imposible que los dos ocurran al tiempo, sin embargo se hace el cálculo de manera formal.\n",
        "ambos_ocupadas\n",
        "print(f\"Probabilidad de que ambos estados estén ocupados simultáneamente: {ambos_ocupadas}\")"
      ],
      "metadata": {
        "colab": {
          "base_uri": "https://localhost:8080/"
        },
        "id": "Ry-3-Bh8i2Yv",
        "outputId": "5e353820-347c-44f9-c496-0989694836e3"
      },
      "execution_count": null,
      "outputs": [
        {
          "output_type": "stream",
          "name": "stdout",
          "text": [
            "Probabilidad de que ambos estados estén ocupados simultáneamente: 0\n"
          ]
        }
      ]
    },
    {
      "cell_type": "markdown",
      "source": [
        "(f) Determine la probabilidad en estado estable de que al menos una estación esté ocupada.\n"
      ],
      "metadata": {
        "id": "D5erWyLxi6u3"
      }
    },
    {
      "cell_type": "code",
      "source": [
        "al_menos_uno_ocupado=π1+π2 # se usa esta formula ya que son estados excluyentes\n",
        "al_menos_uno_ocupado\n",
        "print(f\"Probabilidad de que al menos uno de los estados esté ocupado: {al_menos_uno_ocupado}\")"
      ],
      "metadata": {
        "colab": {
          "base_uri": "https://localhost:8080/"
        },
        "id": "8eQf5dBm0diq",
        "outputId": "4673dbdc-0d2c-4fee-d304-c5ef43f2f0d9"
      },
      "execution_count": null,
      "outputs": [
        {
          "output_type": "stream",
          "name": "stdout",
          "text": [
            "Probabilidad de que al menos uno de los estados esté ocupado: 0\n"
          ]
        }
      ]
    },
    {
      "cell_type": "markdown",
      "source": [
        "\n",
        "(g) Determine la probabilidad en estado estable de que la estación de producción esté vacía."
      ],
      "metadata": {
        "id": "4raynR08y4UP"
      }
    },
    {
      "cell_type": "code",
      "source": [
        "vacio=1-π1\n",
        "vacio\n",
        "print(f\"Probabilidad de que el estado de producción esté vacío: {vacio}\")"
      ],
      "metadata": {
        "colab": {
          "base_uri": "https://localhost:8080/"
        },
        "id": "c9a2nBLczBcI",
        "outputId": "53f45bdb-d65c-4b38-bb16-97eb37b51a4d"
      },
      "execution_count": null,
      "outputs": [
        {
          "output_type": "stream",
          "name": "stdout",
          "text": [
            "Probabilidad de que el estado de producción esté vacío: 1\n"
          ]
        }
      ]
    },
    {
      "cell_type": "markdown",
      "source": [
        "**3.** Resuelva el problema anterior suponiendo que el 2% de las veces el cliente regresa el producto y va directamente a producción.\n",
        "\n",
        "\n",
        "$\\mathbb{P}(S_1\\cap S_2)=0.043\\%,\\  \\mathbb{P}(S_1\\cup S_2)=4.15\\%,\\ \\mathbb{P}(\\urcorner S_1)=97.87\\%$. El estado estable es $\\pi=[0.0213,0.0202,0.9585]$"
      ],
      "metadata": {
        "id": "WkbDzii-zLDG"
      }
    },
    {
      "cell_type": "code",
      "source": [
        "π_1 = 0.0213\n",
        "π_2 = 0.0202\n",
        "π_3 = 0.9585\n",
        "\n",
        "al_menos_uno_ocupado_porcentaje = (π_1*π_2) * 100\n",
        "ambos_ocupadas_porcentaje = (π_1+π_2)* 100\n",
        "vacio_percentage = (1- π_1) * 100\n",
        "\n",
        "print(f\"Probabilidad de que al menos uno de los estados esté ocupado: {al_menos_uno_ocupado_porcentaje:.3f}%\")\n",
        "print(f\"Probabilidad de que ambos estados estén ocupados simultáneamente: {ambos_ocupadas_porcentaje:.2f}%\")\n",
        "print(f\"Probabilidad de que el estado de producción esté vacío: {vacio_percentage:.2f}%\")"
      ],
      "metadata": {
        "colab": {
          "base_uri": "https://localhost:8080/"
        },
        "id": "Cpmrn25XzK3C",
        "outputId": "567fd499-c105-4c63-df13-c644055c55c3"
      },
      "execution_count": null,
      "outputs": [
        {
          "output_type": "stream",
          "name": "stdout",
          "text": [
            "Probabilidad de que al menos uno de los estados esté ocupado: 0.043%\n",
            "Probabilidad de que ambos estados estén ocupados simultáneamente: 4.15%\n",
            "Probabilidad de que el estado de producción esté vacío: 97.87%\n"
          ]
        }
      ]
    }
  ]
}