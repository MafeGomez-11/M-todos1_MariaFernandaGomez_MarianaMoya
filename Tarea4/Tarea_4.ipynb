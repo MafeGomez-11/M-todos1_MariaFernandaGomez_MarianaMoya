{
  "nbformat": 4,
  "nbformat_minor": 0,
  "metadata": {
    "colab": {
      "provenance": [],
      "authorship_tag": "ABX9TyNxCO4OYjyS0goi7EOpCWsJ",
      "include_colab_link": true
    },
    "kernelspec": {
      "name": "python3",
      "display_name": "Python 3"
    },
    "language_info": {
      "name": "python"
    }
  },
  "cells": [
    {
      "cell_type": "markdown",
      "metadata": {
        "id": "view-in-github",
        "colab_type": "text"
      },
      "source": [
        "<a href=\"https://colab.research.google.com/github/MafeGomez-11/Metodos1_MariaFernandaGomez_MarianaMoya/blob/main/Tarea4/Tarea_4.ipynb\" target=\"_parent\"><img src=\"https://colab.research.google.com/assets/colab-badge.svg\" alt=\"Open In Colab\"/></a>"
      ]
    },
    {
      "cell_type": "markdown",
      "source": [
        "Ejercicios: Álgebra Lineal: 1,2,3,4,5,6,8,10,12,13,14"
      ],
      "metadata": {
        "id": "QiwKP2sF_AYR"
      }
    },
    {
      "cell_type": "code",
      "source": [
        "import numpy as np\n",
        "import matplotlib.pyplot as plt\n",
        "import sympy as sym"
      ],
      "metadata": {
        "id": "b4Bgk8I9QduZ"
      },
      "execution_count": 2,
      "outputs": []
    },
    {
      "cell_type": "markdown",
      "source": [
        "**2.** Implemente el algoritmo de Gaus-Seidel para resolver el sistema de ecuaciones visto en\n",
        "clase.\n"
      ],
      "metadata": {
        "id": "_OomrvOtJ2Pt"
      }
    },
    {
      "cell_type": "code",
      "source": [
        "A = np.array([[3.,-1.,-1.],[-1.,3.,1.],[2.,1.,4.]])\n",
        "A"
      ],
      "metadata": {
        "colab": {
          "base_uri": "https://localhost:8080/"
        },
        "id": "yj2h7K78J8c2",
        "outputId": "f2228b37-1033-4790-8a13-816fa79f8540"
      },
      "execution_count": 3,
      "outputs": [
        {
          "output_type": "execute_result",
          "data": {
            "text/plain": [
              "array([[ 3., -1., -1.],\n",
              "       [-1.,  3.,  1.],\n",
              "       [ 2.,  1.,  4.]])"
            ]
          },
          "metadata": {},
          "execution_count": 3
        }
      ]
    },
    {
      "cell_type": "code",
      "source": [
        "b = np.array([1.,3.,7.])\n",
        "b"
      ],
      "metadata": {
        "colab": {
          "base_uri": "https://localhost:8080/"
        },
        "id": "JrzmvetwKAuc",
        "outputId": "ded3fab8-179b-4a49-e8b6-c41376cd355b"
      },
      "execution_count": 4,
      "outputs": [
        {
          "output_type": "execute_result",
          "data": {
            "text/plain": [
              "array([1., 3., 7.])"
            ]
          },
          "metadata": {},
          "execution_count": 4
        }
      ]
    },
    {
      "cell_type": "code",
      "source": [
        "def GaussSeidel(A,b,x0, itmax = 100, tolerancia = 1e-16):\n",
        "\n",
        "  x = x0.copy()\n",
        "\n",
        "  for it in range(itmax):\n",
        "\n",
        "    # Hacemos una copia del vector x\n",
        "    x_new = np.copy(x)\n",
        "\n",
        "    for i in range(A.shape[0]):\n",
        "\n",
        "      # Contabilizamos la suma del iterador\n",
        "      Suma = 0.\n",
        "      for j in range(A.shape[1]):\n",
        "        if i != j:\n",
        "          Suma += A[i,j]*x_new[j]\n",
        "          # La diferencia radica en que ahora la suma es\n",
        "          # calcula usando x_new recien actualizado\n",
        "          x_new[i] = (b[i] - Suma)/A[i,i]\n",
        "\n",
        "    # Criterio de convergencia\n",
        "    if np.linalg.norm( np.dot(A,x_new)-b) < tolerancia:\n",
        "      break\n",
        "\n",
        "    x = np.copy(x_new)\n",
        "\n",
        "  print(it)\n",
        "\n",
        "  return x, it"
      ],
      "metadata": {
        "id": "gkJIydhuKFcB"
      },
      "execution_count": 5,
      "outputs": []
    },
    {
      "cell_type": "code",
      "source": [
        "x0 = np.array([0.,0.,0.])\n",
        "x,_ = GaussSeidel(A,b,x0)\n",
        "print(x)"
      ],
      "metadata": {
        "colab": {
          "base_uri": "https://localhost:8080/"
        },
        "id": "Yc7Jdi3kKGQj",
        "outputId": "8f47c6fc-4e62-466c-b654-50c194c3c7c5"
      },
      "execution_count": 6,
      "outputs": [
        {
          "output_type": "stream",
          "name": "stdout",
          "text": [
            "25\n",
            "[1. 1. 1.]\n"
          ]
        }
      ]
    },
    {
      "cell_type": "markdown",
      "source": [
        "**3**  En Python, implemente una clase para solucionar sistemas lineales. El constructor de clase deber recibir la matriz y el vector independiente.  El primer método de clase resuelve el sistema usando el método de Jacobi, y el segundo método resuelve el sistema usando el método de Gauss-Seidel.  En la pantalla debe aparecer el número de iteraciones necesarias para resolver el problema."
      ],
      "metadata": {
        "id": "TZ3hjx4JPTJB"
      }
    },
    {
      "cell_type": "code",
      "source": [
        "import numpy as np\n",
        "\n",
        "class SistemaLineal:\n",
        "    def __init__(self, a, b):\n",
        "        self.a = np.array(a, dtype=np.double)\n",
        "        self.b = np.array(b, dtype=np.double)\n",
        "        self.n = len(b)\n",
        "\n",
        "    def metodo_jacobi(self, tol=1e-6, max_ite=1000):\n",
        "        x = np.zeros_like(self.b, dtype=np.double)\n",
        "        for k in range(max_ite):\n",
        "            x_nuevo = np.zeros_like(self.b, dtype=np.double)\n",
        "            for i in range(self.n):\n",
        "                s = 0\n",
        "                for j in range(self.n):\n",
        "                    if i != j:\n",
        "                        s += self.a[i, j] * x[j]\n",
        "                x_nuevo[i] = (self.b[i] - s) / self.a[i, i]\n",
        "            if np.linalg.norm(x - x_nuevo, ord=np.inf) < tol:\n",
        "                print(f'El método de Jacobi convergió en {k + 1} iteraciones')\n",
        "                return x_nuevo\n",
        "            x = x_nuevo\n",
        "        print('El método de Jacobi no convergió')\n",
        "        return None\n",
        "\n",
        "    def metodo_gauss_seidel(self, tol=1e-6, max_ite=1000):\n",
        "        x = np.zeros_like(self.b, dtype=np.double)\n",
        "        for k in range(max_ite):\n",
        "            x_antiguo = x.copy()\n",
        "            for i in range(self.n):\n",
        "                s = 0\n",
        "                for j in range(self.n):\n",
        "                    if i != j:\n",
        "                        s += self.a[i, j] * x[j]\n",
        "                x[i] = (self.b[i] - s) / self.a[i, i]\n",
        "            if np.linalg.norm(x - x_antiguo, ord=np.inf) < tol:\n",
        "                print(f\"El método de Gauss-Seidel convergió en {k + 1} iteraciones.\")\n",
        "                return x\n",
        "        print(\"El método de Gauss-Seidel no convergió.\")\n",
        "        return None\n",
        "\n",
        "# Ejemplo de uso\n",
        "a = np.array([[10, 2, 1], [1, 10, 2], [2, 3, 10]])\n",
        "b = np.array([7, 8, 9])\n",
        "\n",
        "sistema = SistemaLineal(a, b)\n",
        "x_jacobi = sistema.metodo_jacobi()\n",
        "x_gauss_seidel = sistema.metodo_gauss_seidel()\n",
        "\n",
        "print(\"Solución con Jacobi:\", x_jacobi)\n",
        "print(\"Solución con Gauss-Seidel:\", x_gauss_seidel)\n"
      ],
      "metadata": {
        "id": "nTc-fFOX-4yY",
        "colab": {
          "base_uri": "https://localhost:8080/"
        },
        "outputId": "f23871e5-7c25-40b3-f2f7-ce00532e6ccf"
      },
      "execution_count": 7,
      "outputs": [
        {
          "output_type": "stream",
          "name": "stdout",
          "text": [
            "El método de Jacobi convergió en 15 iteraciones\n",
            "El método de Gauss-Seidel convergió en 8 iteraciones.\n",
            "Solución con Jacobi: [0.5137213  0.62678388 0.60922081]\n",
            "Solución con Gauss-Seidel: [0.51372118 0.62678376 0.60922063]\n"
          ]
        }
      ]
    },
    {
      "cell_type": "markdown",
      "source": [
        "**4.** Implemente un algoritmo que realice la multiplicación de dos matrices. Use el algoritmo para calcular:\n",
        "\n",
        "\n",
        "$\\mathbf{AB}=\\begin{pmatrix}\n",
        "1 & 0 & 0\\\\\n",
        "5 & 1 & 0\\\\\n",
        "-2 & 3 & 1\n",
        "\\end{pmatrix}\n",
        "\\begin{pmatrix}\n",
        "4 & -2 & 1\\\\\n",
        "0 & 3 & 7\\\\\n",
        "0 & 0 & -2\n",
        "\\end{pmatrix}$"
      ],
      "metadata": {
        "id": "4IKLFz1EKJIT"
      }
    },
    {
      "cell_type": "code",
      "source": [
        "A=np.array([[1.,0.,0.],[5.,1.,0.],[-2.,3.,1.]])\n",
        "A"
      ],
      "metadata": {
        "colab": {
          "base_uri": "https://localhost:8080/"
        },
        "id": "zMbv7VbkKKQV",
        "outputId": "360e68ae-fbd6-4c3c-b2cc-7073ac971a9b"
      },
      "execution_count": 8,
      "outputs": [
        {
          "output_type": "execute_result",
          "data": {
            "text/plain": [
              "array([[ 1.,  0.,  0.],\n",
              "       [ 5.,  1.,  0.],\n",
              "       [-2.,  3.,  1.]])"
            ]
          },
          "metadata": {},
          "execution_count": 8
        }
      ]
    },
    {
      "cell_type": "code",
      "source": [
        "B=np.array([[4.,-2.,1.],[0.,3.,7.],[0.,0.,-2.]])\n",
        "B"
      ],
      "metadata": {
        "colab": {
          "base_uri": "https://localhost:8080/"
        },
        "id": "gdKOQYw9KPjb",
        "outputId": "4ef6c00a-d099-41fd-a6a7-c71ae237e97a"
      },
      "execution_count": 9,
      "outputs": [
        {
          "output_type": "execute_result",
          "data": {
            "text/plain": [
              "array([[ 4., -2.,  1.],\n",
              "       [ 0.,  3.,  7.],\n",
              "       [ 0.,  0., -2.]])"
            ]
          },
          "metadata": {},
          "execution_count": 9
        }
      ]
    },
    {
      "cell_type": "code",
      "source": [
        "def MultiplicarMatrices(A,B):\n",
        "  AB=np.zeros((3,3))\n",
        "  if len(A[0]) == len(B):\n",
        "    for i in range(len(A)):\n",
        "      for j in range(len(B[0])):\n",
        "        for k in range(len(B)):\n",
        "          AB[i][j] += A[i][k] * B[k][j]\n",
        "  else:\n",
        "    print(\"Las matrices no se pueden multiplicar\")\n",
        "  return AB\n",
        "MultiplicarMatrices(A,B)"
      ],
      "metadata": {
        "colab": {
          "base_uri": "https://localhost:8080/"
        },
        "id": "FwOKjxbiKQFY",
        "outputId": "d9e7006b-50ec-41fc-e730-e64220c836b3"
      },
      "execution_count": 10,
      "outputs": [
        {
          "output_type": "execute_result",
          "data": {
            "text/plain": [
              "array([[ 4., -2.,  1.],\n",
              "       [20., -7., 12.],\n",
              "       [-8., 13., 17.]])"
            ]
          },
          "metadata": {},
          "execution_count": 10
        }
      ]
    },
    {
      "cell_type": "markdown",
      "source": [
        "**8**  Implemente la descomposición LU para factorizar la siguiente matriz $\\mathbf{A} = L \\cdot U$\n",
        "\n",
        "$\\mathbf{A}=\\begin{pmatrix}\n",
        "4 & -2 & 1\\\\\n",
        "20 & -7 & 12\\\\\n",
        "-8 & 13 & 17\n",
        "\\end{pmatrix} =\n",
        "\\begin{pmatrix}\n",
        "1 & 0 & 0\\\\\n",
        "5 & 1 & 0\\\\\n",
        "-2 & 3 & 1\n",
        "\\end{pmatrix} \\cdot\n",
        "\\begin{pmatrix}\n",
        "4 & -2 & 1\\\\\n",
        "0 & 3 & 7\\\\\n",
        "0 & 0 & -2\n",
        "\\end{pmatrix}$"
      ],
      "metadata": {
        "id": "ACpuSQD4bWFA"
      }
    },
    {
      "cell_type": "code",
      "source": [
        "def descomposicion_lu(A):\n",
        "    n = len(A)\n",
        "    L = np.zeros((n, n))\n",
        "    U =  np.copy(A).astype(np.float64)\n",
        "\n",
        "    for i in range(n):\n",
        "        L[i, i] = 1\n",
        "\n",
        "    for k in range(n - 1):\n",
        "        for i in range(k + 1, n):\n",
        "            L[i, k] = U[i, k] / U[k, k]\n",
        "            U[i, :] -= L[i, k] * U[k, :]\n",
        "\n",
        "    return L, U\n",
        "\n",
        "A = np.array([[4, -2, 1], [20, -7, 12], [-8, 13, 17]])\n",
        "\n",
        "L, U = descomposicion_lu(A)\n",
        "\n",
        "print(\"Matriz L:\")\n",
        "print(L)\n",
        "print(\"Matriz U:\")\n",
        "print(U)"
      ],
      "metadata": {
        "colab": {
          "base_uri": "https://localhost:8080/"
        },
        "id": "qNiVDcdt6PiE",
        "outputId": "a55d4a61-7027-4d58-edac-730a2cb963f0"
      },
      "execution_count": 11,
      "outputs": [
        {
          "output_type": "stream",
          "name": "stdout",
          "text": [
            "Matriz L:\n",
            "[[ 1.  0.  0.]\n",
            " [ 5.  1.  0.]\n",
            " [-2.  3.  1.]]\n",
            "Matriz U:\n",
            "[[ 4. -2.  1.]\n",
            " [ 0.  3.  7.]\n",
            " [ 0.  0. -2.]]\n"
          ]
        }
      ]
    },
    {
      "cell_type": "code",
      "source": [
        "def multiplicacion_matrices(L, U):\n",
        "    filas_L, columnas_L = L.shape\n",
        "    filas_U, columnas_U = U.shape\n",
        "    resultado = np.zeros((filas_L, columnas_U))\n",
        "    if columnas_L != filas_U:\n",
        "        raise ValueError(\"Las dimensiones de las matrices no son compatibles para la multiplicación.\")\n",
        "    for i in range(filas_L):\n",
        "        for j in range(columnas_U):\n",
        "            suma = 0\n",
        "            for k in range(columnas_L):\n",
        "                suma += L[i, k] * U[k, j]\n",
        "            resultado[i, j] = suma\n",
        "    return resultado\n",
        "L = np.array([[1, 0, 0],\n",
        "              [5, 1, 0],\n",
        "              [-2, 3, 1]])\n",
        "\n",
        "U = np.array([[4, -2, 1],\n",
        "              [0, 3, 7],\n",
        "              [0, 0, -2]])\n",
        "multiplicacion_matrices(L, U)\n"
      ],
      "metadata": {
        "id": "zicgVN2tbSuF",
        "colab": {
          "base_uri": "https://localhost:8080/"
        },
        "outputId": "0e3b7f96-7a5b-4fe3-ffda-f1d79bbb30dc"
      },
      "execution_count": 12,
      "outputs": [
        {
          "output_type": "execute_result",
          "data": {
            "text/plain": [
              "array([[ 4., -2.,  1.],\n",
              "       [20., -7., 12.],\n",
              "       [-8., 13., 17.]])"
            ]
          },
          "metadata": {},
          "execution_count": 12
        }
      ]
    },
    {
      "cell_type": "markdown",
      "source": [
        "10. Método de Jacobi: diagonalizacioón de matrices simétricas.\n",
        "Cuando la matriz es simétrica $a_{ij} = a_{ji}$, es posible encontrar todos los valores y vectores propios mediante la transformación de la matriz $\\mathbf{A}$ usando matrices de rotación. En particular, una rotación alrededor del eje $z$ está dada por:\n",
        "\n",
        "$\\mathbf{R(\\theta)}=\\begin{pmatrix}\n",
        "cos\\theta & -sin\\theta & 0\\\\\n",
        "sin\\theta & cos\\theta & 0\\\\\n",
        "0 & 0 & 1\n",
        "\\end{pmatrix}\n",
        "$\n",
        "\n",
        "La rotación de un ángulo $\\theta$ muy particular diagonaliza iterativamente a la matriz $\\mathbf{A}$.\n",
        "\n",
        "$\\theta=\n",
        " \\left\\{ \\begin{array}{lcc} \\pi/4 & si & a_{ii} =a_{jj}  \\\\ \\\\ \\frac{1}{2}Arctan(\\frac{2 a_{ij}}{a_{ii}-a_{jj}}) & si & a_{ii} \\neq a_{jj} \\\\ \\end{array} \\right.$\n",
        "\n",
        " donde $i,j$ es la posición del elemento más grande fuera de la diagonal. Investigue en la literatura el algoritmo de Jacobi para diagonalizar matrices simétricas.\n",
        "\n",
        "\n",
        " *(a)* Implemente el método de Jacobi para encontrar los valores y vectores propios de:\n",
        "\n",
        "$\\mathbf{A}=\\begin{pmatrix}\n",
        "4 & 1 & 1\\\\\n",
        "1 & 3 & 2\\\\\n",
        "1 & 2 & 5\n",
        "\\end{pmatrix}\n",
        "$\n",
        "\n",
        "*(b)* Compare con el resultado que se obtiene en Numpy: np.linalg.eig(A)"
      ],
      "metadata": {
        "id": "-Og8v6g6KWqr"
      }
    },
    {
      "cell_type": "code",
      "source": [
        "A=np.array([[4.,1.,1.],[1.,3.,2.],[1.,2.,5.]])\n",
        "A"
      ],
      "metadata": {
        "colab": {
          "base_uri": "https://localhost:8080/"
        },
        "id": "gSXvLZ_Hi_73",
        "outputId": "ab77b212-4c9e-4c7c-837e-dd03a65a8875"
      },
      "execution_count": 13,
      "outputs": [
        {
          "output_type": "execute_result",
          "data": {
            "text/plain": [
              "array([[4., 1., 1.],\n",
              "       [1., 3., 2.],\n",
              "       [1., 2., 5.]])"
            ]
          },
          "metadata": {},
          "execution_count": 13
        }
      ]
    },
    {
      "cell_type": "code",
      "source": [
        "import numpy as np\n",
        "\n",
        "def Metodo_Jacobi(A, tol=1e-10, max_iter=1000):\n",
        "    n = A.shape[0]\n",
        "    V = np.eye(n)\n",
        "\n",
        "    def maximo(A):\n",
        "        n = A.shape[0]\n",
        "        max_val = 0\n",
        "        p = 0\n",
        "        q = 1\n",
        "        for i in range(n):\n",
        "            for j in range(i+1, n):\n",
        "                if abs(A[i,j]) > max_val:\n",
        "                    max_val = abs(A[i,j])\n",
        "                    p = i\n",
        "                    q = j\n",
        "        return p, q, max_val\n",
        "\n",
        "    for it in range(max_iter):\n",
        "        i, j, max_val = maximo(A)\n",
        "\n",
        "        if max_val < tol:\n",
        "            break\n",
        "\n",
        "        if A[i, i] == A[j, j]:\n",
        "            theta = np.pi / 4\n",
        "        else:\n",
        "            theta = 0.5 * np.arctan(2 * A[i, j] / (A[i, i] - A[j, j]))\n",
        "\n",
        "\n",
        "        R = np.eye(n)\n",
        "        R[i, i] = np.cos(theta)\n",
        "        R[j, j] = np.cos(theta)\n",
        "        R[i, j] = -np.sin(theta)\n",
        "        R[j, i] = np.sin(theta)\n",
        "\n",
        "\n",
        "        A = R.T @ A @ R\n",
        "        V = V @ R\n",
        "\n",
        "\n",
        "    eigenvalues = np.diag(A)\n",
        "    idx = eigenvalues.argsort()[::-1]\n",
        "    eigenvalues = eigenvalues[idx]\n",
        "    V = V[:, idx]\n",
        "\n",
        "    return eigenvalues, V\n",
        "\n",
        "\n",
        "def normalize_sign(vectors):\n",
        "    for i in range(vectors.shape[1]):\n",
        "        if vectors[0, i] < 0:\n",
        "            vectors[:, i] *= -1\n",
        "    return vectors\n",
        "\n",
        "\n",
        "eigenvalues, eigenvectors = Metodo_Jacobi(A)\n",
        "##Parte b) numpy.\n",
        "eigenvalues_b, eigenvectors_b = np.linalg.eig(A)\n",
        "\n",
        "print(\"\\tAntes de normalizar:\")\n",
        "print(\"Valores propios:\\n\", eigenvalues)\n",
        "print(\"Vectores propios:\\n\", eigenvectors)\n",
        "print(\"\\nValores propios (parte b):\\n\", eigenvalues_b)\n",
        "print(\"Vectores propios (parte b):\\n\", eigenvectors_b,\"\\n\")\n",
        "\n",
        "\n",
        "print(\"\\n\\tDespues de normalizar:\")\n",
        "\n",
        "eigenvectors = normalize_sign(eigenvectors)\n",
        "\n",
        "print(\"Valores propios:\\n\", eigenvalues)\n",
        "print(\"Vectores propios:\\n\", eigenvectors)\n",
        "\n",
        "print(\"\\nValores propios (parte b):\\n\", eigenvalues_b)\n",
        "print(\"Vectores propios (parte b):\\n\", eigenvectors_b)"
      ],
      "metadata": {
        "id": "iZ55YNKrKWXK",
        "colab": {
          "base_uri": "https://localhost:8080/"
        },
        "outputId": "3cdce671-a253-4334-8487-e1c956fe542f"
      },
      "execution_count": 23,
      "outputs": [
        {
          "output_type": "stream",
          "name": "stdout",
          "text": [
            "\tAntes de normalizar:\n",
            "Valores propios:\n",
            " [6.89510652 3.39729507 1.70759841]\n",
            "Vectores propios:\n",
            " [[ 0.43170413  0.88573564 -0.17059871]\n",
            " [ 0.49725362 -0.07589338  0.86427949]\n",
            " [ 0.75257583 -0.45794385 -0.47319874]]\n",
            "\n",
            "Valores propios (parte b):\n",
            " [6.89510652 3.39729507 1.70759841]\n",
            "Vectores propios (parte b):\n",
            " [[ 0.43170413  0.88573564  0.17059871]\n",
            " [ 0.49725362 -0.07589338 -0.86427949]\n",
            " [ 0.75257583 -0.45794385  0.47319874]] \n",
            "\n",
            "\n",
            "\tDespues de normalizar:\n",
            "Valores propios:\n",
            " [6.89510652 3.39729507 1.70759841]\n",
            "Vectores propios:\n",
            " [[ 0.43170413  0.88573564  0.17059871]\n",
            " [ 0.49725362 -0.07589338 -0.86427949]\n",
            " [ 0.75257583 -0.45794385  0.47319874]]\n",
            "\n",
            "Valores propios (parte b):\n",
            " [6.89510652 3.39729507 1.70759841]\n",
            "Vectores propios (parte b):\n",
            " [[ 0.43170413  0.88573564  0.17059871]\n",
            " [ 0.49725362 -0.07589338 -0.86427949]\n",
            " [ 0.75257583 -0.45794385  0.47319874]]\n"
          ]
        }
      ]
    },
    {
      "cell_type": "markdown",
      "source": [
        "**12** Usando los métodos de Newton-Raphson y descenso del gradiente, encuentre la solución de los siguientes sistemas de ecuaciones no lineales:\n",
        "$ln (x^2_1+x^2_2)- sin(x_1x_2)=ln(2)+ln(\\pi)$,\n",
        "$e^{x_1-x_2}+cos (x_1x_2)=0$\n",
        "\n",
        "Use $x^{0}=(2,2)$\n",
        "\n",
        "$6x_1−2cos(x_2x_3)−1   =   0$,\n",
        "\n",
        "$9x_2+\\sqrt{x^2_1+sin(x_3) + 1.06} + 0.9 =0$,\n",
        "\n",
        "$60x_3+ 3e^{−x_1x_2}+ 10\\pi−3   =   0$.\n",
        "\n",
        "Use $x^{(0)}$=(0,0,0)\n"
      ],
      "metadata": {
        "id": "5UlL-TCLDESB"
      }
    },
    {
      "cell_type": "code",
      "source": [
        "import numpy as np\n",
        "import matplotlib.pyplot as plt\n",
        "from IPython.display import clear_output\n",
        "import time\n",
        "\n",
        "G1 = (lambda x, y: np.log(x**2 + y**2) - np.sin(x * y) - np.log(2) - np.log(np.pi),\n",
        "      lambda x, y: np.exp(x - y) + np.cos(x * y))\n",
        "\n",
        "\n",
        "G2 = (lambda x, y, z: 6 * x - 2 * np.cos(y * z) - 1,\n",
        "      lambda x, y, z: 9 * y + np.sqrt(x**2 + np.sin(z) + 1.06) + 0.9,\n",
        "      lambda x, y, z: 60 * z + 3 * np.exp(-x * y) + 10 * np.pi - 3)\n",
        "\n",
        "def GetF(G, r):\n",
        "    n = len(G)\n",
        "    v = np.zeros(n)\n",
        "    if n == 3:\n",
        "        for i in range(n):\n",
        "            v[i] = G[i](r[0], r[1], r[2])\n",
        "    else:\n",
        "        for i in range(n):\n",
        "            v[i] = G[i](r[0], r[1])\n",
        "    return v\n",
        "\n",
        "def Metric(G, r):\n",
        "    return 0.5 * np.linalg.norm(GetF(G, r))**2\n",
        "\n",
        "def GetJacobian(G, r, h=1e-3):\n",
        "    n = len(G)\n",
        "    J = np.zeros((n, len(r)))\n",
        "\n",
        "    for i in range(n):\n",
        "        for j in range(len(r)):\n",
        "            rf = r.copy()\n",
        "            rb = r.copy()\n",
        "            rf[j] += h\n",
        "            rb[j] -= h\n",
        "\n",
        "            if len(r) == 3:\n",
        "                J[i, j] = (G[i](rf[0], rf[1], rf[2]) - G[i](rb[0], rb[1], rb[2])) / (2 * h)\n",
        "            else:\n",
        "                J[i, j] = (G[i](rf[0], rf[1]) - G[i](rb[0], rb[1])) / (2 * h)\n",
        "\n",
        "    return J\n",
        "\n",
        "\n",
        "\n",
        "\n",
        "def Minimizer(r, G, lr=1e-5, epochs=1000, error=1e-8):\n",
        "    metric = Metric(G, r)\n",
        "    it = 0\n",
        "    metrics = []\n",
        "\n",
        "    while metric > error and it < epochs:\n",
        "        J = GetJacobian(G, r)\n",
        "        F = GetF(G, r)\n",
        "\n",
        "        gradE = np.dot(J.T, F)\n",
        "        r = r - lr * gradE\n",
        "\n",
        "        metric = Metric(G, r)\n",
        "        metrics.append(metric)\n",
        "\n",
        "        it += 1\n",
        "        if it % 10 == 0:\n",
        "            print(f\"Iteración {it}: error = {metric:.4e}\")\n",
        "\n",
        "    if it == epochs:\n",
        "        print(\"No convergió en el número máximo de iteraciones.\")\n",
        "    else:\n",
        "        print(f\"Convergió en {it} iteraciones con un error de {metric:.4e}\")\n",
        "\n",
        "    return r, it, metrics\n",
        "\n",
        "sol1, it1, metrics1 = Minimizer(np.array([2.0, 2.0]), G1, lr=1e-3, epochs=2000)\n",
        "print(\"Solución para el primer sistema (G1):\", sol1)\n",
        "\n",
        "plt.figure(figsize=(10, 5))\n",
        "plt.plot(metrics1, marker='o', label='Error de G1')\n",
        "plt.yscale('log')\n",
        "plt.xlabel('Iteración')\n",
        "plt.ylabel('Error (log escala)')\n",
        "plt.title('Convergencia del Método para G1')\n",
        "plt.legend()\n",
        "plt.grid()\n",
        "plt.show()\n",
        "\n",
        "sol2, it2, metrics2 = Minimizer(np.array([0.0, 0.0, 0.0]), G2, )\n",
        "print(\"Solución para el segundo sistema (G2):\", sol2)\n",
        "\n",
        "plt.figure(figsize=(10, 5))\n",
        "plt.plot(metrics2, marker='o', label='Error de G2')\n",
        "plt.yscale('log')\n",
        "plt.xlabel('Iteración')\n",
        "plt.ylabel('Error (log escala)')\n",
        "plt.title('Convergencia del Método para G2')\n",
        "plt.legend()\n",
        "plt.grid()\n",
        "plt.show()"
      ],
      "metadata": {
        "colab": {
          "base_uri": "https://localhost:8080/",
          "height": 1000
        },
        "id": "aA5QvRSU2EEV",
        "outputId": "d073f8eb-5aa1-4b7a-c5e1-90117a43cd51"
      },
      "execution_count": 15,
      "outputs": [
        {
          "output_type": "stream",
          "name": "stdout",
          "text": [
            "Iteración 10: error = 4.5605e-01\n",
            "Iteración 20: error = 3.7058e-01\n",
            "Iteración 30: error = 2.9995e-01\n",
            "Iteración 40: error = 2.4208e-01\n",
            "Iteración 50: error = 1.9496e-01\n",
            "Iteración 60: error = 1.5679e-01\n",
            "Iteración 70: error = 1.2597e-01\n",
            "Iteración 80: error = 1.0115e-01\n",
            "Iteración 90: error = 8.1209e-02\n",
            "Iteración 100: error = 6.5197e-02\n",
            "Iteración 110: error = 5.2352e-02\n",
            "Iteración 120: error = 4.2051e-02\n",
            "Iteración 130: error = 3.3793e-02\n",
            "Iteración 140: error = 2.7172e-02\n",
            "Iteración 150: error = 2.1863e-02\n",
            "Iteración 160: error = 1.7604e-02\n",
            "Iteración 170: error = 1.4187e-02\n",
            "Iteración 180: error = 1.1445e-02\n",
            "Iteración 190: error = 9.2429e-03\n",
            "Iteración 200: error = 7.4740e-03\n",
            "Iteración 210: error = 6.0524e-03\n",
            "Iteración 220: error = 4.9093e-03\n",
            "Iteración 230: error = 3.9895e-03\n",
            "Iteración 240: error = 3.2492e-03\n",
            "Iteración 250: error = 2.6528e-03\n",
            "Iteración 260: error = 2.1720e-03\n",
            "Iteración 270: error = 1.7842e-03\n",
            "Iteración 280: error = 1.4710e-03\n",
            "Iteración 290: error = 1.2179e-03\n",
            "Iteración 300: error = 1.0130e-03\n",
            "Iteración 310: error = 8.4705e-04\n",
            "Iteración 320: error = 7.1236e-04\n",
            "Iteración 330: error = 6.0286e-04\n",
            "Iteración 340: error = 5.1366e-04\n",
            "Iteración 350: error = 4.4082e-04\n",
            "Iteración 360: error = 3.8118e-04\n",
            "Iteración 370: error = 3.3219e-04\n",
            "Iteración 380: error = 2.9182e-04\n",
            "Iteración 390: error = 2.5840e-04\n",
            "Iteración 400: error = 2.3062e-04\n",
            "Iteración 410: error = 2.0740e-04\n",
            "Iteración 420: error = 1.8789e-04\n",
            "Iteración 430: error = 1.7139e-04\n",
            "Iteración 440: error = 1.5734e-04\n",
            "Iteración 450: error = 1.4530e-04\n",
            "Iteración 460: error = 1.3489e-04\n",
            "Iteración 470: error = 1.2583e-04\n",
            "Iteración 480: error = 1.1788e-04\n",
            "Iteración 490: error = 1.1085e-04\n",
            "Iteración 500: error = 1.0458e-04\n",
            "Iteración 510: error = 9.8942e-05\n",
            "Iteración 520: error = 9.3841e-05\n",
            "Iteración 530: error = 8.9191e-05\n",
            "Iteración 540: error = 8.4924e-05\n",
            "Iteración 550: error = 8.0987e-05\n",
            "Iteración 560: error = 7.7332e-05\n",
            "Iteración 570: error = 7.3925e-05\n",
            "Iteración 580: error = 7.0733e-05\n",
            "Iteración 590: error = 6.7733e-05\n",
            "Iteración 600: error = 6.4903e-05\n",
            "Iteración 610: error = 6.2225e-05\n",
            "Iteración 620: error = 5.9686e-05\n",
            "Iteración 630: error = 5.7272e-05\n",
            "Iteración 640: error = 5.4974e-05\n",
            "Iteración 650: error = 5.2782e-05\n",
            "Iteración 660: error = 5.0689e-05\n",
            "Iteración 670: error = 4.8688e-05\n",
            "Iteración 680: error = 4.6773e-05\n",
            "Iteración 690: error = 4.4939e-05\n",
            "Iteración 700: error = 4.3181e-05\n",
            "Iteración 710: error = 4.1495e-05\n",
            "Iteración 720: error = 3.9879e-05\n",
            "Iteración 730: error = 3.8327e-05\n",
            "Iteración 740: error = 3.6837e-05\n",
            "Iteración 750: error = 3.5406e-05\n",
            "Iteración 760: error = 3.4032e-05\n",
            "Iteración 770: error = 3.2712e-05\n",
            "Iteración 780: error = 3.1444e-05\n",
            "Iteración 790: error = 3.0225e-05\n",
            "Iteración 800: error = 2.9053e-05\n",
            "Iteración 810: error = 2.7928e-05\n",
            "Iteración 820: error = 2.6845e-05\n",
            "Iteración 830: error = 2.5805e-05\n",
            "Iteración 840: error = 2.4805e-05\n",
            "Iteración 850: error = 2.3844e-05\n",
            "Iteración 860: error = 2.2920e-05\n",
            "Iteración 870: error = 2.2031e-05\n",
            "Iteración 880: error = 2.1177e-05\n",
            "Iteración 890: error = 2.0356e-05\n",
            "Iteración 900: error = 1.9567e-05\n",
            "Iteración 910: error = 1.8808e-05\n",
            "Iteración 920: error = 1.8078e-05\n",
            "Iteración 930: error = 1.7377e-05\n",
            "Iteración 940: error = 1.6702e-05\n",
            "Iteración 950: error = 1.6054e-05\n",
            "Iteración 960: error = 1.5431e-05\n",
            "Iteración 970: error = 1.4832e-05\n",
            "Iteración 980: error = 1.4256e-05\n",
            "Iteración 990: error = 1.3702e-05\n",
            "Iteración 1000: error = 1.3169e-05\n",
            "Iteración 1010: error = 1.2658e-05\n",
            "Iteración 1020: error = 1.2166e-05\n",
            "Iteración 1030: error = 1.1693e-05\n",
            "Iteración 1040: error = 1.1238e-05\n",
            "Iteración 1050: error = 1.0801e-05\n",
            "Iteración 1060: error = 1.0381e-05\n",
            "Iteración 1070: error = 9.9770e-06\n",
            "Iteración 1080: error = 9.5888e-06\n",
            "Iteración 1090: error = 9.2157e-06\n",
            "Iteración 1100: error = 8.8570e-06\n",
            "Iteración 1110: error = 8.5122e-06\n",
            "Iteración 1120: error = 8.1808e-06\n",
            "Iteración 1130: error = 7.8622e-06\n",
            "Iteración 1140: error = 7.5560e-06\n",
            "Iteración 1150: error = 7.2617e-06\n",
            "Iteración 1160: error = 6.9787e-06\n",
            "Iteración 1170: error = 6.7068e-06\n",
            "Iteración 1180: error = 6.4455e-06\n",
            "Iteración 1190: error = 6.1942e-06\n",
            "Iteración 1200: error = 5.9528e-06\n",
            "Iteración 1210: error = 5.7207e-06\n",
            "Iteración 1220: error = 5.4976e-06\n",
            "Iteración 1230: error = 5.2833e-06\n",
            "Iteración 1240: error = 5.0772e-06\n",
            "Iteración 1250: error = 4.8792e-06\n",
            "Iteración 1260: error = 4.6888e-06\n",
            "Iteración 1270: error = 4.5059e-06\n",
            "Iteración 1280: error = 4.3301e-06\n",
            "Iteración 1290: error = 4.1611e-06\n",
            "Iteración 1300: error = 3.9987e-06\n",
            "Iteración 1310: error = 3.8426e-06\n",
            "Iteración 1320: error = 3.6926e-06\n",
            "Iteración 1330: error = 3.5484e-06\n",
            "Iteración 1340: error = 3.4099e-06\n",
            "Iteración 1350: error = 3.2767e-06\n",
            "Iteración 1360: error = 3.1487e-06\n",
            "Iteración 1370: error = 3.0258e-06\n",
            "Iteración 1380: error = 2.9076e-06\n",
            "Iteración 1390: error = 2.7940e-06\n",
            "Iteración 1400: error = 2.6848e-06\n",
            "Iteración 1410: error = 2.5799e-06\n",
            "Iteración 1420: error = 2.4791e-06\n",
            "Iteración 1430: error = 2.3822e-06\n",
            "Iteración 1440: error = 2.2891e-06\n",
            "Iteración 1450: error = 2.1997e-06\n",
            "Iteración 1460: error = 2.1137e-06\n",
            "Iteración 1470: error = 2.0310e-06\n",
            "Iteración 1480: error = 1.9516e-06\n",
            "Iteración 1490: error = 1.8753e-06\n",
            "Iteración 1500: error = 1.8020e-06\n",
            "Iteración 1510: error = 1.7315e-06\n",
            "Iteración 1520: error = 1.6638e-06\n",
            "Iteración 1530: error = 1.5987e-06\n",
            "Iteración 1540: error = 1.5362e-06\n",
            "Iteración 1550: error = 1.4761e-06\n",
            "Iteración 1560: error = 1.4184e-06\n",
            "Iteración 1570: error = 1.3629e-06\n",
            "Iteración 1580: error = 1.3096e-06\n",
            "Iteración 1590: error = 1.2583e-06\n",
            "Iteración 1600: error = 1.2091e-06\n",
            "Iteración 1610: error = 1.1618e-06\n",
            "Iteración 1620: error = 1.1163e-06\n",
            "Iteración 1630: error = 1.0726e-06\n",
            "Iteración 1640: error = 1.0307e-06\n",
            "Iteración 1650: error = 9.9032e-07\n",
            "Iteración 1660: error = 9.5155e-07\n",
            "Iteración 1670: error = 9.1431e-07\n",
            "Iteración 1680: error = 8.7852e-07\n",
            "Iteración 1690: error = 8.4412e-07\n",
            "Iteración 1700: error = 8.1108e-07\n",
            "Iteración 1710: error = 7.7932e-07\n",
            "Iteración 1720: error = 7.4881e-07\n",
            "Iteración 1730: error = 7.1949e-07\n",
            "Iteración 1740: error = 6.9131e-07\n",
            "Iteración 1750: error = 6.6424e-07\n",
            "Iteración 1760: error = 6.3823e-07\n",
            "Iteración 1770: error = 6.1324e-07\n",
            "Iteración 1780: error = 5.8922e-07\n",
            "Iteración 1790: error = 5.6614e-07\n",
            "Iteración 1800: error = 5.4397e-07\n",
            "Iteración 1810: error = 5.2266e-07\n",
            "Iteración 1820: error = 5.0219e-07\n",
            "Iteración 1830: error = 4.8251e-07\n",
            "Iteración 1840: error = 4.6361e-07\n",
            "Iteración 1850: error = 4.4545e-07\n",
            "Iteración 1860: error = 4.2800e-07\n",
            "Iteración 1870: error = 4.1123e-07\n",
            "Iteración 1880: error = 3.9512e-07\n",
            "Iteración 1890: error = 3.7964e-07\n",
            "Iteración 1900: error = 3.6476e-07\n",
            "Iteración 1910: error = 3.5047e-07\n",
            "Iteración 1920: error = 3.3674e-07\n",
            "Iteración 1930: error = 3.2354e-07\n",
            "Iteración 1940: error = 3.1086e-07\n",
            "Iteración 1950: error = 2.9868e-07\n",
            "Iteración 1960: error = 2.8697e-07\n",
            "Iteración 1970: error = 2.7573e-07\n",
            "Iteración 1980: error = 2.6492e-07\n",
            "Iteración 1990: error = 2.5454e-07\n",
            "Iteración 2000: error = 2.4456e-07\n",
            "No convergió en el número máximo de iteraciones.\n",
            "Solución para el primer sistema (G1): [1.77210407 1.77280369]\n"
          ]
        },
        {
          "output_type": "display_data",
          "data": {
            "text/plain": [
              "<Figure size 1000x500 with 1 Axes>"
            ],
            "image/png": "[encoded data removed]"
          },
          "metadata": {}
        },
        {
          "output_type": "stream",
          "name": "stdout",
          "text": [
            "Iteración 10: error = 2.4308e+02\n",
            "Iteración 20: error = 1.1972e+02\n",
            "Iteración 30: error = 6.0434e+01\n",
            "Iteración 40: error = 3.1932e+01\n",
            "Iteración 50: error = 1.8216e+01\n",
            "Iteración 60: error = 1.1602e+01\n",
            "Iteración 70: error = 8.3987e+00\n",
            "Iteración 80: error = 6.8345e+00\n",
            "Iteración 90: error = 6.0578e+00\n",
            "Iteración 100: error = 5.6596e+00\n",
            "Iteración 110: error = 5.4434e+00\n",
            "Iteración 120: error = 5.3149e+00\n",
            "Iteración 130: error = 5.2288e+00\n",
            "Iteración 140: error = 5.1633e+00\n",
            "Iteración 150: error = 5.1079e+00\n",
            "Iteración 160: error = 5.0577e+00\n",
            "Iteración 170: error = 5.0102e+00\n",
            "Iteración 180: error = 4.9643e+00\n",
            "Iteración 190: error = 4.9193e+00\n",
            "Iteración 200: error = 4.8751e+00\n",
            "Iteración 210: error = 4.8314e+00\n",
            "Iteración 220: error = 4.7882e+00\n",
            "Iteración 230: error = 4.7455e+00\n",
            "Iteración 240: error = 4.7033e+00\n",
            "Iteración 250: error = 4.6615e+00\n",
            "Iteración 260: error = 4.6202e+00\n",
            "Iteración 270: error = 4.5793e+00\n",
            "Iteración 280: error = 4.5388e+00\n",
            "Iteración 290: error = 4.4987e+00\n",
            "Iteración 300: error = 4.4591e+00\n",
            "Iteración 310: error = 4.4198e+00\n",
            "Iteración 320: error = 4.3810e+00\n",
            "Iteración 330: error = 4.3425e+00\n",
            "Iteración 340: error = 4.3044e+00\n",
            "Iteración 350: error = 4.2668e+00\n",
            "Iteración 360: error = 4.2295e+00\n",
            "Iteración 370: error = 4.1926e+00\n",
            "Iteración 380: error = 4.1560e+00\n",
            "Iteración 390: error = 4.1199e+00\n",
            "Iteración 400: error = 4.0841e+00\n",
            "Iteración 410: error = 4.0487e+00\n",
            "Iteración 420: error = 4.0136e+00\n",
            "Iteración 430: error = 3.9788e+00\n",
            "Iteración 440: error = 3.9445e+00\n",
            "Iteración 450: error = 3.9104e+00\n",
            "Iteración 460: error = 3.8767e+00\n",
            "Iteración 470: error = 3.8434e+00\n",
            "Iteración 480: error = 3.8104e+00\n",
            "Iteración 490: error = 3.7777e+00\n",
            "Iteración 500: error = 3.7453e+00\n",
            "Iteración 510: error = 3.7132e+00\n",
            "Iteración 520: error = 3.6815e+00\n",
            "Iteración 530: error = 3.6501e+00\n",
            "Iteración 540: error = 3.6190e+00\n",
            "Iteración 550: error = 3.5881e+00\n",
            "Iteración 560: error = 3.5576e+00\n",
            "Iteración 570: error = 3.5274e+00\n",
            "Iteración 580: error = 3.4975e+00\n",
            "Iteración 590: error = 3.4679e+00\n",
            "Iteración 600: error = 3.4386e+00\n",
            "Iteración 610: error = 3.4095e+00\n",
            "Iteración 620: error = 3.3808e+00\n",
            "Iteración 630: error = 3.3523e+00\n",
            "Iteración 640: error = 3.3241e+00\n",
            "Iteración 650: error = 3.2961e+00\n",
            "Iteración 660: error = 3.2684e+00\n",
            "Iteración 670: error = 3.2410e+00\n",
            "Iteración 680: error = 3.2139e+00\n",
            "Iteración 690: error = 3.1870e+00\n",
            "Iteración 700: error = 3.1604e+00\n",
            "Iteración 710: error = 3.1340e+00\n",
            "Iteración 720: error = 3.1079e+00\n",
            "Iteración 730: error = 3.0820e+00\n",
            "Iteración 740: error = 3.0564e+00\n",
            "Iteración 750: error = 3.0310e+00\n",
            "Iteración 760: error = 3.0059e+00\n",
            "Iteración 770: error = 2.9810e+00\n",
            "Iteración 780: error = 2.9563e+00\n",
            "Iteración 790: error = 2.9319e+00\n",
            "Iteración 800: error = 2.9077e+00\n",
            "Iteración 810: error = 2.8837e+00\n",
            "Iteración 820: error = 2.8599e+00\n",
            "Iteración 830: error = 2.8364e+00\n",
            "Iteración 840: error = 2.8131e+00\n",
            "Iteración 850: error = 2.7900e+00\n",
            "Iteración 860: error = 2.7671e+00\n",
            "Iteración 870: error = 2.7444e+00\n",
            "Iteración 880: error = 2.7220e+00\n",
            "Iteración 890: error = 2.6997e+00\n",
            "Iteración 900: error = 2.6777e+00\n",
            "Iteración 910: error = 2.6558e+00\n",
            "Iteración 920: error = 2.6342e+00\n",
            "Iteración 930: error = 2.6128e+00\n",
            "Iteración 940: error = 2.5915e+00\n",
            "Iteración 950: error = 2.5705e+00\n",
            "Iteración 960: error = 2.5496e+00\n",
            "Iteración 970: error = 2.5289e+00\n",
            "Iteración 980: error = 2.5084e+00\n",
            "Iteración 990: error = 2.4882e+00\n",
            "Iteración 1000: error = 2.4680e+00\n",
            "No convergió en el número máximo de iteraciones.\n",
            "Solución para el segundo sistema (G2): [ 0.15014858 -0.10294774 -0.52447056]\n"
          ]
        },
        {
          "output_type": "display_data",
          "data": {
            "text/plain": [
              "<Figure size 1000x500 with 1 Axes>"
            ],
            "image/png": "[encoded data removed]"
          },
          "metadata": {}
        }
      ]
    },
    {
      "cell_type": "markdown",
      "source": [
        "**13.** (Jacobiano de cuarto orden) Usando el operador derivada central de orden $O(h^4)$ es posible mejorar la estimación del Jacobiano para funciones vectoriales.\n",
        "\n",
        "*(a)* Escriba una función que estime el Jacobiano con el operador derivada de orden $O(h^4)$.\n",
        "\n",
        "*(b)* Estime el Jacobiano de la función del problema anterior (5.68) en el punto $x=(0.5,0.5,0.5)$ con $h=0.01$.\n",
        "\n",
        "*(c)* Estime el Jacobiano usando la aproximación de orden $O(h^2)$ con $h=0.01$. Para qué valor de $h$, el operador de segundo orden igualará en precisión al operador de cuarto orden; verifique su intuición en el código."
      ],
      "metadata": {
        "id": "meajZzBRKhW2"
      }
    },
    {
      "cell_type": "code",
      "source": [
        "def f(x):\n",
        "    return np.array([\n",
        "        6 * x[0] - 2 * np.cos(x[1] * x[2]) - 1,\n",
        "        9 * x[1] + np.sqrt(x[0]**2 + np.sin(x[2]) + 1.06) + 0.9,\n",
        "        60 * x[2] + 3 * np.exp(-x[0] * x[1]) + 10 * np.pi - 3\n",
        "    ])"
      ],
      "metadata": {
        "id": "JRha6jkwml33"
      },
      "execution_count": 16,
      "outputs": []
    },
    {
      "cell_type": "code",
      "source": [
        "# a) Jacobiano O(h^4)\n",
        "def jacobiano_Oh4(f, x, h=0.01):\n",
        "    n = len(x)\n",
        "    m = len(f(x))\n",
        "    J = np.zeros((m, n))\n",
        "\n",
        "    for i in range(n):\n",
        "        xh2_pos = x.copy()\n",
        "        xh1_pos = x.copy()\n",
        "        xh1_neg = x.copy()\n",
        "        xh2_neg = x.copy()\n",
        "\n",
        "        xh2_pos[i] += 2*h\n",
        "        xh1_pos[i] += h\n",
        "        xh1_neg[i] -= h\n",
        "        xh2_neg[i] -= 2*h\n",
        "\n",
        "        J[:, i] = (-f(xh2_pos) + 8*f(xh1_pos) - 8*f(xh1_neg) + f(xh2_neg)) / (12*h)\n",
        "\n",
        "    return J\n",
        "\n",
        "x = np.array([0.5, 0.5, 0.5])\n",
        "h = 0.01\n",
        "\n",
        "J_Oh4 = jacobiano_Oh4(f, x, h)\n",
        "print(\"Jacobiano O(h^4) en x = (0.5, 0.5, 0.5):\\n\", J_Oh4)\n",
        "\n",
        "# c) O(h^2)\n",
        "def jacobiano_Oh2(f, x, h=0.01):\n",
        "    n = len(x)\n",
        "    m = len(f(x))\n",
        "    J = np.zeros((m, n))\n",
        "\n",
        "    for i in range(n):\n",
        "        xh_pos = x.copy()\n",
        "        xh_neg = x.copy()\n",
        "\n",
        "        xh_pos[i] += h\n",
        "        xh_neg[i] -= h\n",
        "\n",
        "\n",
        "        J[:, i] = (f(xh_pos) - f(xh_neg)) / (2*h)\n",
        "\n",
        "    return J\n",
        "\n",
        "J_Oh2 = jacobiano_Oh2(f, x, h)\n",
        "print(\"\\nJacobiano O(h^2) en x = (0.5, 0.5, 0.5):\\n\", J_Oh2)\n",
        "print(\"No tiene la misma precisión que con el operador de derivada (O(h^4))\")\n",
        "\n",
        "J_Oh2 = jacobiano_Oh2(f, x, h=h*h)\n",
        "print(\"\\nintuitivamente: la razon entre h^4 y h^2 es h^2, por esto se necesitaría h^2 en h (el paso) para que el jacobiano con (O(h^2)) de igual al de (O(h^4))\")\n",
        "print(\"\\nJacobiano O(h^2) en x = (0.5, 0.5, 0.5), h=(0.01)^2:\\n\", J_Oh2)\n",
        "print(\"Tiene la misma precisión que con el operador de derivada (O(h^4))\")"
      ],
      "metadata": {
        "id": "M-5XMXCoKhv_",
        "colab": {
          "base_uri": "https://localhost:8080/"
        },
        "outputId": "66f841a1-8f4f-4c4f-8eb3-33bd0e8bc78a"
      },
      "execution_count": 17,
      "outputs": [
        {
          "output_type": "stream",
          "name": "stdout",
          "text": [
            "Jacobiano O(h^4) en x = (0.5, 0.5, 0.5):\n",
            " [[ 6.          0.24740396  0.24740396]\n",
            " [ 0.37377753  9.          0.32802064]\n",
            " [-1.16820117 -1.16820117 60.        ]]\n",
            "\n",
            "Jacobiano O(h^2) en x = (0.5, 0.5, 0.5):\n",
            " [[ 6.          0.24740293  0.24740293]\n",
            " [ 0.37376854  9.          0.32801836]\n",
            " [-1.16820604 -1.16820604 60.        ]]\n",
            "No tiene la misma precisión que con el operador de derivada (O(h^4))\n",
            "\n",
            "intuitivamente: la razon entre h^4 y h^2 es h^2, por esto se necesitaría h^2 en h (el paso) para que el jacobiano con (O(h^2)) de igual al de (O(h^4))\n",
            "\n",
            "Jacobiano O(h^2) en x = (0.5, 0.5, 0.5), h=(0.01)^2:\n",
            " [[ 6.          0.24740396  0.24740396]\n",
            " [ 0.37377753  9.          0.32802064]\n",
            " [-1.16820118 -1.16820118 60.        ]]\n",
            "Tiene la misma precisión que con el operador de derivada (O(h^4))\n"
          ]
        }
      ]
    },
    {
      "cell_type": "markdown",
      "source": [
        "**14.** (Group theory, Sympy) El grupo de rotación *SO*(3) (special orthogonal dim 3) decribe las rotaciones en el espacio. Este grupo tiene el siguiente conjunto de generadores:\n",
        "\n",
        "\n",
        "$\\mathbf{J_x}=\\begin{pmatrix}\n",
        "0 & 0 & 0\\\\\n",
        "0 & 0 & -1\\\\\n",
        "0 & 1 & 0\n",
        "\\end{pmatrix},\n",
        "\\mathbf{J_y}=\\begin{pmatrix}\n",
        "0 & 0 & 1\\\\\n",
        "0 & 0 & 0\\\\\n",
        "-1 & 0 & 0\n",
        "\\end{pmatrix},\n",
        "\\mathbf{J_z}=\\begin{pmatrix}\n",
        "0 & -1 & 0\\\\\n",
        "1 & 0 & 0\\\\\n",
        "0 & 0 & 0\n",
        "\\end{pmatrix}\n",
        "$\n",
        "\n",
        "Verifique que el álgebra de Lie del grupo está dada por\n",
        "\n",
        "$[J_i,J_j]=ε_{ijk}J_k, \\ \\ \\ \\ \\ \\ \\ \\ \\ \\ \\ \\ \\ \\ \\ \\ i,j=1,2,3.$\n",
        "\n",
        "donde $[A,B]=AB-BA$ es el conmutator y el símbolo Levi-Civita está definido por:\n",
        "\n",
        "$ε_{ijk}=\n",
        " \\left\\{ \\begin{array}{lcc} +1 & si(i,j,k) & (1,2,3),(2,3,1),(3,1,2) & permutacion\\ par  \\\\ \\\\ -1 & si(i,j,k) & (3,2,1),(1,3,2),(2,1,3) & permutacion\\ impar\\\\ \\\\ 0 & de\\ otro\\ modo & i=j\\ \\ o\\ \\ j=k\\ \\ o\\ \\ k=i \\end{array} \\right.$"
      ],
      "metadata": {
        "id": "722nfBgBUn_C"
      }
    },
    {
      "cell_type": "code",
      "source": [
        "import sympy as sp\n",
        "\n",
        "Jx = sp.Matrix([[0, 0, 0], [0, 0, -1], [0, 1, 0]])\n",
        "Jy = sp.Matrix([[0, 0, 1], [0, 0, 0], [-1, 0, 0]])\n",
        "Jz = sp.Matrix([[0, -1, 0], [1, 0, 0], [0, 0, 0]])\n",
        "\n",
        "def commutator(A, B):\n",
        "    return A * B - B * A\n",
        "\n",
        "commutator_Jx_Jy = commutator(Jx, Jy)\n",
        "commutator_Jy_Jz = commutator(Jy, Jz)\n",
        "commutator_Jz_Jx = commutator(Jz, Jx)\n",
        "\n",
        "commutator_Jx_Jy, commutator_Jy_Jz, commutator_Jz_Jx"
      ],
      "metadata": {
        "id": "HPeG5jyc3_G5",
        "colab": {
          "base_uri": "https://localhost:8080/"
        },
        "outputId": "c2e9389a-91ea-462b-ae1f-df03cbcf458e"
      },
      "execution_count": 18,
      "outputs": [
        {
          "output_type": "execute_result",
          "data": {
            "text/plain": [
              "(Matrix([\n",
              " [0, -1, 0],\n",
              " [1,  0, 0],\n",
              " [0,  0, 0]]),\n",
              " Matrix([\n",
              " [0, 0,  0],\n",
              " [0, 0, -1],\n",
              " [0, 1,  0]]),\n",
              " Matrix([\n",
              " [ 0, 0, 1],\n",
              " [ 0, 0, 0],\n",
              " [-1, 0, 0]]))"
            ]
          },
          "metadata": {},
          "execution_count": 18
        }
      ]
    },
    {
      "cell_type": "code",
      "source": [
        "import sympy as sp\n",
        "\n",
        "Jx = sp.Matrix([[0, 0, 0], [0, 0, -1], [0, 1, 0]])\n",
        "Jy = sp.Matrix([[0, 0, 1], [0, 0, 0], [-1, 0, 0]])\n",
        "Jz = sp.Matrix([[0, -1, 0], [1, 0, 0], [0, 0, 0]])\n",
        "\n",
        "def commutator(A, B):\n",
        "    return (A * B) - (B * A)\n",
        "\n",
        "\n",
        "print(\"Verificando la estructura de Lie de SO(3)...\")\n",
        "\n",
        "\n",
        "print(\"Comutador [Jx, Jy] = \")\n",
        "sp.pprint(commutator(Jx,Jy))\n",
        "print(\"Debería ser igual a Jz:\")\n",
        "sp.pprint(Jz)\n",
        "\n",
        "\n",
        "print(\"Comutador [Jy, Jz] = \")\n",
        "sp.pprint(commutator(Jy, Jz))\n",
        "print(\"Debería ser igual a Jx:\")\n",
        "sp.pprint(Jx)\n",
        "\n",
        "\n",
        "print(\"Comutador [Jz, Jx] = \")\n",
        "sp.pprint(commutator(Jz, Jx))\n",
        "print(\"Debería ser igual a Jy:\")\n",
        "sp.pprint(Jy)"
      ],
      "metadata": {
        "colab": {
          "base_uri": "https://localhost:8080/"
        },
        "id": "VzNUnyg0Zctz",
        "outputId": "783c6c7c-e314-47d1-d0a4-3135c048f784"
      },
      "execution_count": 19,
      "outputs": [
        {
          "output_type": "stream",
          "name": "stdout",
          "text": [
            "Verificando la estructura de Lie de SO(3)...\n",
            "Comutador [Jx, Jy] = \n",
            "⎡0  -1  0⎤\n",
            "⎢        ⎥\n",
            "⎢1  0   0⎥\n",
            "⎢        ⎥\n",
            "⎣0  0   0⎦\n",
            "Debería ser igual a Jz:\n",
            "⎡0  -1  0⎤\n",
            "⎢        ⎥\n",
            "⎢1  0   0⎥\n",
            "⎢        ⎥\n",
            "⎣0  0   0⎦\n",
            "Comutador [Jy, Jz] = \n",
            "⎡0  0  0 ⎤\n",
            "⎢        ⎥\n",
            "⎢0  0  -1⎥\n",
            "⎢        ⎥\n",
            "⎣0  1  0 ⎦\n",
            "Debería ser igual a Jx:\n",
            "⎡0  0  0 ⎤\n",
            "⎢        ⎥\n",
            "⎢0  0  -1⎥\n",
            "⎢        ⎥\n",
            "⎣0  1  0 ⎦\n",
            "Comutador [Jz, Jx] = \n",
            "⎡0   0  1⎤\n",
            "⎢        ⎥\n",
            "⎢0   0  0⎥\n",
            "⎢        ⎥\n",
            "⎣-1  0  0⎦\n",
            "Debería ser igual a Jy:\n",
            "⎡0   0  1⎤\n",
            "⎢        ⎥\n",
            "⎢0   0  0⎥\n",
            "⎢        ⎥\n",
            "⎣-1  0  0⎦\n"
          ]
        }
      ]
    },
    {
      "cell_type": "code",
      "source": [
        "print(\"Comutador [Jx, Jx] = \")\n",
        "sp.pprint(commutator(Jx, Jx))\n",
        "\n",
        "print(\"Comutador [Jy, Jy] = \")\n",
        "sp.pprint(commutator(Jy, Jy))\n",
        "\n",
        "print(\"Comutador [Jz, Jz] = \")\n",
        "sp.pprint(commutator(Jz, Jz))"
      ],
      "metadata": {
        "colab": {
          "base_uri": "https://localhost:8080/"
        },
        "id": "pwvH8JJAt6WH",
        "outputId": "5bd59dfb-5b76-414a-ca3b-9758e05a5b96"
      },
      "execution_count": 20,
      "outputs": [
        {
          "output_type": "stream",
          "name": "stdout",
          "text": [
            "Comutador [Jx, Jx] = \n",
            "⎡0  0  0⎤\n",
            "⎢       ⎥\n",
            "⎢0  0  0⎥\n",
            "⎢       ⎥\n",
            "⎣0  0  0⎦\n",
            "Comutador [Jy, Jy] = \n",
            "⎡0  0  0⎤\n",
            "⎢       ⎥\n",
            "⎢0  0  0⎥\n",
            "⎢       ⎥\n",
            "⎣0  0  0⎦\n",
            "Comutador [Jz, Jz] = \n",
            "⎡0  0  0⎤\n",
            "⎢       ⎥\n",
            "⎢0  0  0⎥\n",
            "⎢       ⎥\n",
            "⎣0  0  0⎦\n"
          ]
        }
      ]
    },
    {
      "cell_type": "code",
      "source": [
        "def levi_civita(i, j, k):\n",
        "    if (i, j, k) in [(1, 2, 3), (2, 3, 1), (3, 1, 2)]:\n",
        "        return 1\n",
        "    elif (i, j, k) in [(3, 2, 1), (1, 3, 2), (2, 1, 3)]:\n",
        "        return -1\n",
        "    else:\n",
        "        return 0\n",
        "\n",
        "print(\"Verificando la estructura de Lie con el símbolo de Levi-Civita...\")\n",
        "\n",
        "for i in range(1, 4):\n",
        "    for j in range(1, 4):\n",
        "        for k in range(1, 4):\n",
        "            if levi_civita(i, j, k) != 0:\n",
        "                sp.pprint(f\"[J{i}, J{j}] = {levi_civita(i, j, k)}*J{k}\")\n",
        "                sp.pprint(commutator([Jx, Jy, Jz][i-1], [Jx, Jy, Jz][j-1]))\n",
        "                sp.pprint([Jx, Jy, Jz][k-1])"
      ],
      "metadata": {
        "id": "9vSsNy9bZ4ld",
        "colab": {
          "base_uri": "https://localhost:8080/"
        },
        "outputId": "8a1dec02-6925-4ae8-e961-fe6a5801fbb0"
      },
      "execution_count": 21,
      "outputs": [
        {
          "output_type": "stream",
          "name": "stdout",
          "text": [
            "Verificando la estructura de Lie con el símbolo de Levi-Civita...\n",
            "[J1, J2] = 1*J3\n",
            "⎡0  -1  0⎤\n",
            "⎢        ⎥\n",
            "⎢1  0   0⎥\n",
            "⎢        ⎥\n",
            "⎣0  0   0⎦\n",
            "⎡0  -1  0⎤\n",
            "⎢        ⎥\n",
            "⎢1  0   0⎥\n",
            "⎢        ⎥\n",
            "⎣0  0   0⎦\n",
            "[J1, J3] = -1*J2\n",
            "⎡0  0  -1⎤\n",
            "⎢        ⎥\n",
            "⎢0  0  0 ⎥\n",
            "⎢        ⎥\n",
            "⎣1  0  0 ⎦\n",
            "⎡0   0  1⎤\n",
            "⎢        ⎥\n",
            "⎢0   0  0⎥\n",
            "⎢        ⎥\n",
            "⎣-1  0  0⎦\n",
            "[J2, J1] = -1*J3\n",
            "⎡0   1  0⎤\n",
            "⎢        ⎥\n",
            "⎢-1  0  0⎥\n",
            "⎢        ⎥\n",
            "⎣0   0  0⎦\n",
            "⎡0  -1  0⎤\n",
            "⎢        ⎥\n",
            "⎢1  0   0⎥\n",
            "⎢        ⎥\n",
            "⎣0  0   0⎦\n",
            "[J2, J3] = 1*J1\n",
            "⎡0  0  0 ⎤\n",
            "⎢        ⎥\n",
            "⎢0  0  -1⎥\n",
            "⎢        ⎥\n",
            "⎣0  1  0 ⎦\n",
            "⎡0  0  0 ⎤\n",
            "⎢        ⎥\n",
            "⎢0  0  -1⎥\n",
            "⎢        ⎥\n",
            "⎣0  1  0 ⎦\n",
            "[J3, J1] = 1*J2\n",
            "⎡0   0  1⎤\n",
            "⎢        ⎥\n",
            "⎢0   0  0⎥\n",
            "⎢        ⎥\n",
            "⎣-1  0  0⎦\n",
            "⎡0   0  1⎤\n",
            "⎢        ⎥\n",
            "⎢0   0  0⎥\n",
            "⎢        ⎥\n",
            "⎣-1  0  0⎦\n",
            "[J3, J2] = -1*J1\n",
            "⎡0  0   0⎤\n",
            "⎢        ⎥\n",
            "⎢0  0   1⎥\n",
            "⎢        ⎥\n",
            "⎣0  -1  0⎦\n",
            "⎡0  0  0 ⎤\n",
            "⎢        ⎥\n",
            "⎢0  0  -1⎥\n",
            "⎢        ⎥\n",
            "⎣0  1  0 ⎦\n"
          ]
        }
      ]
    },
    {
      "cell_type": "code",
      "source": [],
      "metadata": {
        "id": "F1NdSzZ0oVOt"
      },
      "execution_count": 21,
      "outputs": []
    }
  ]
}